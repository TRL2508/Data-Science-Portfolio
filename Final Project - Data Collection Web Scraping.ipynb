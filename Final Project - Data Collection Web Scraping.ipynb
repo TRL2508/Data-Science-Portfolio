{
 "cells": [
  {
   "cell_type": "markdown",
   "metadata": {},
   "source": [
    "# **Space X  Falcon 9 First Stage Landing Prediction**\n"
   ]
  },
  {
   "cell_type": "markdown",
   "metadata": {},
   "source": [
    "## Web scraping Falcon 9 and Falcon Heavy Launches Records from Wikipedia\n"
   ]
  },
  {
   "cell_type": "markdown",
   "metadata": {},
   "source": [
    "Estimated time needed: **40** minutes\n"
   ]
  },
  {
   "cell_type": "markdown",
   "metadata": {},
   "source": [
    "In this lab, you will be performing web scraping to collect Falcon 9 historical launch records from a Wikipedia page titled `List of Falcon 9 and Falcon Heavy launches`\n",
    "\n",
    "[https://en.wikipedia.org/wiki/List_of_Falcon\\_9\\_and_Falcon_Heavy_launches](https://en.wikipedia.org/wiki/List_of_Falcon\\_9\\_and_Falcon_Heavy_launches?utm_medium=Exinfluencer&utm_source=Exinfluencer&utm_content=000026UJ&utm_term=10006555&utm_id=NA-SkillsNetwork-Channel-SkillsNetworkCoursesIBMDS0321ENSkillsNetwork26802033-2021-01-01)\n"
   ]
  },
  {
   "cell_type": "markdown",
   "metadata": {},
   "source": [
    "![](https://cf-courses-data.s3.us.cloud-object-storage.appdomain.cloud/IBM-DS0321EN-SkillsNetwork/labs/module\\_1\\_L2/images/Falcon9\\_rocket_family.svg)\n"
   ]
  },
  {
   "cell_type": "markdown",
   "metadata": {},
   "source": [
    "Falcon 9 first stage will land successfully\n"
   ]
  },
  {
   "cell_type": "markdown",
   "metadata": {},
   "source": [
    "![](https://cf-courses-data.s3.us.cloud-object-storage.appdomain.cloud/IBMDeveloperSkillsNetwork-DS0701EN-SkillsNetwork/api/Images/landing\\_1.gif)\n"
   ]
  },
  {
   "cell_type": "markdown",
   "metadata": {},
   "source": [
    "Several examples of an unsuccessful landing are shown here:\n"
   ]
  },
  {
   "cell_type": "markdown",
   "metadata": {},
   "source": [
    "![](https://cf-courses-data.s3.us.cloud-object-storage.appdomain.cloud/IBMDeveloperSkillsNetwork-DS0701EN-SkillsNetwork/api/Images/crash.gif)\n"
   ]
  },
  {
   "cell_type": "markdown",
   "metadata": {},
   "source": [
    "More specifically, the launch records are stored in a HTML table shown below:\n"
   ]
  },
  {
   "cell_type": "markdown",
   "metadata": {},
   "source": [
    "![](https://cf-courses-data.s3.us.cloud-object-storage.appdomain.cloud/IBM-DS0321EN-SkillsNetwork/labs/module\\_1\\_L2/images/falcon9-launches-wiki.png)\n"
   ]
  },
  {
   "cell_type": "markdown",
   "metadata": {},
   "source": [
    "## Objectives\n",
    "\n",
    "Web scrap Falcon 9 launch records with `BeautifulSoup`:\n",
    "\n",
    "*   Extract a Falcon 9 launch records HTML table from Wikipedia\n",
    "*   Parse the table and convert it into a Pandas data frame\n"
   ]
  },
  {
   "cell_type": "markdown",
   "metadata": {},
   "source": [
    "First let's import required packages for this lab\n"
   ]
  },
  {
   "cell_type": "code",
   "execution_count": 1,
   "metadata": {},
   "outputs": [
    {
     "name": "stdout",
     "output_type": "stream",
     "text": [
      "Requirement already satisfied: beautifulsoup4 in c:\\users\\asus\\anaconda3\\lib\\site-packages (4.9.3)\n",
      "Requirement already satisfied: soupsieve>1.2 in c:\\users\\asus\\anaconda3\\lib\\site-packages (from beautifulsoup4) (2.2.1)\n",
      "Requirement already satisfied: requests in c:\\users\\asus\\anaconda3\\lib\\site-packages (2.26.0)\n",
      "Requirement already satisfied: urllib3<1.27,>=1.21.1 in c:\\users\\asus\\anaconda3\\lib\\site-packages (from requests) (1.26.4)\n",
      "Requirement already satisfied: charset-normalizer~=2.0.0 in c:\\users\\asus\\anaconda3\\lib\\site-packages (from requests) (2.0.9)\n",
      "Requirement already satisfied: certifi>=2017.4.17 in c:\\users\\asus\\anaconda3\\lib\\site-packages (from requests) (2020.12.5)\n",
      "Requirement already satisfied: idna<4,>=2.5 in c:\\users\\asus\\anaconda3\\lib\\site-packages (from requests) (2.10)\n"
     ]
    }
   ],
   "source": [
    "!pip3 install beautifulsoup4\n",
    "!pip3 install requests"
   ]
  },
  {
   "cell_type": "code",
   "execution_count": 2,
   "metadata": {},
   "outputs": [],
   "source": [
    "import sys\n",
    "\n",
    "import requests\n",
    "from bs4 import BeautifulSoup\n",
    "import re\n",
    "import unicodedata\n",
    "import pandas as pd"
   ]
  },
  {
   "cell_type": "markdown",
   "metadata": {},
   "source": [
    "and we will provide some helper functions for you to process web scraped HTML table\n"
   ]
  },
  {
   "cell_type": "code",
   "execution_count": 3,
   "metadata": {},
   "outputs": [],
   "source": [
    "def date_time(table_cells):\n",
    "    \"\"\"\n",
    "    This function returns the data and time from the HTML  table cell\n",
    "    Input: the  element of a table data cell extracts extra row\n",
    "    \"\"\"\n",
    "    return [data_time.strip() for data_time in list(table_cells.strings)][0:2]\n",
    "\n",
    "def booster_version(table_cells):\n",
    "    \"\"\"\n",
    "    This function returns the booster version from the HTML  table cell \n",
    "    Input: the  element of a table data cell extracts extra row\n",
    "    \"\"\"\n",
    "    out=''.join([booster_version for i,booster_version in enumerate( table_cells.strings) if i%2==0][0:-1])\n",
    "    return out\n",
    "\n",
    "def landing_status(table_cells):\n",
    "    \"\"\"\n",
    "    This function returns the landing status from the HTML table cell \n",
    "    Input: the  element of a table data cell extracts extra row\n",
    "    \"\"\"\n",
    "    out=[i for i in table_cells.strings][0]\n",
    "    return out\n",
    "\n",
    "\n",
    "def get_mass(table_cells):\n",
    "    mass=unicodedata.normalize(\"NFKD\", table_cells.text).strip()\n",
    "    if mass:\n",
    "        mass.find(\"kg\")\n",
    "        new_mass=mass[0:mass.find(\"kg\")+2]\n",
    "    else:\n",
    "        new_mass=0\n",
    "    return new_mass\n",
    "\n",
    "\n",
    "def extract_column_from_header(row):\n",
    "    \"\"\"\n",
    "    This function returns the landing status from the HTML table cell \n",
    "    Input: the  element of a table data cell extracts extra row\n",
    "    \"\"\"\n",
    "    if (row.br):\n",
    "        row.br.extract()\n",
    "    if row.a:\n",
    "        row.a.extract()\n",
    "    if row.sup:\n",
    "        row.sup.extract()\n",
    "        \n",
    "    colunm_name = ' '.join(row.contents)\n",
    "    \n",
    "    # Filter the digit and empty names\n",
    "    if not(colunm_name.strip().isdigit()):\n",
    "        colunm_name = colunm_name.strip()\n",
    "        return colunm_name    \n"
   ]
  },
  {
   "cell_type": "markdown",
   "metadata": {},
   "source": [
    "To keep the lab tasks consistent, you will be asked to scrape the data from a snapshot of the  `List of Falcon 9 and Falcon Heavy launches` Wikipage updated on\n",
    "`9th June 2021`\n"
   ]
  },
  {
   "cell_type": "code",
   "execution_count": 4,
   "metadata": {},
   "outputs": [],
   "source": [
    "static_url = \"https://en.wikipedia.org/w/index.php?title=List_of_Falcon_9_and_Falcon_Heavy_launches&oldid=1027686922\""
   ]
  },
  {
   "cell_type": "markdown",
   "metadata": {},
   "source": [
    "Next, request the HTML page from the above URL and get a `response` object\n"
   ]
  },
  {
   "cell_type": "markdown",
   "metadata": {},
   "source": [
    "### TASK 1: Request the Falcon9 Launch Wiki page from its URL\n"
   ]
  },
  {
   "cell_type": "markdown",
   "metadata": {},
   "source": [
    "First, let's perform an HTTP GET method to request the Falcon9 Launch HTML page, as an HTTP response.\n"
   ]
  },
  {
   "cell_type": "code",
   "execution_count": 5,
   "metadata": {},
   "outputs": [],
   "source": [
    "static_url = \"https://en.wikipedia.org/w/index.php?title=List_of_Falcon_9_and_Falcon_Heavy_launches&oldid=1027686922\"\n",
    "html_data  = requests.get(static_url).text"
   ]
  },
  {
   "cell_type": "markdown",
   "metadata": {},
   "source": [
    "Create a `BeautifulSoup` object from the HTML `response`\n"
   ]
  },
  {
   "cell_type": "code",
   "execution_count": 6,
   "metadata": {},
   "outputs": [],
   "source": [
    "soup = BeautifulSoup(html_data, 'html5lib') "
   ]
  },
  {
   "cell_type": "markdown",
   "metadata": {},
   "source": [
    "Print the page title to verify if the `BeautifulSoup` object was created properly\n"
   ]
  },
  {
   "cell_type": "code",
   "execution_count": 7,
   "metadata": {},
   "outputs": [
    {
     "data": {
      "text/plain": [
       "<title>List of Falcon 9 and Falcon Heavy launches - Wikipedia</title>"
      ]
     },
     "execution_count": 7,
     "metadata": {},
     "output_type": "execute_result"
    }
   ],
   "source": [
    "# Use soup.title attribute\n",
    "\n",
    "soup.title"
   ]
  },
  {
   "cell_type": "markdown",
   "metadata": {},
   "source": [
    "### TASK 2: Extract all column/variable names from the HTML table header\n"
   ]
  },
  {
   "cell_type": "markdown",
   "metadata": {},
   "source": [
    "Next, we want to collect all relevant column names from the HTML table header\n"
   ]
  },
  {
   "cell_type": "markdown",
   "metadata": {},
   "source": [
    "Let's try to find all tables on the wiki page first. If you need to refresh your memory about `BeautifulSoup`, please check the external reference link towards the end of this lab\n"
   ]
  },
  {
   "cell_type": "code",
   "execution_count": 8,
   "metadata": {},
   "outputs": [],
   "source": [
    "# Use the find_all function in the BeautifulSoup object, with element type `table`\n",
    "# Assign the result to a list called `html_tables`\n",
    "html_tables = soup.find_all(\"tr\")"
   ]
  },
  {
   "cell_type": "markdown",
   "metadata": {},
   "source": [
    "Starting from the third table is our target table contains the actual launch records.\n"
   ]
  },
  {
   "cell_type": "code",
   "execution_count": 9,
   "metadata": {},
   "outputs": [
    {
     "name": "stdout",
     "output_type": "stream",
     "text": [
      "<tr>\n",
      "<th scope=\"col\">Flight No.\n",
      "</th>\n",
      "<th scope=\"col\">Date and<br/>time (<a href=\"/wiki/Coordinated_Universal_Time\" title=\"Coordinated Universal Time\">UTC</a>)\n",
      "</th>\n",
      "<th scope=\"col\"><a href=\"/wiki/List_of_Falcon_9_first-stage_boosters\" title=\"List of Falcon 9 first-stage boosters\">Version,<br/>Booster</a> <sup class=\"reference\" id=\"cite_ref-booster_11-0\"><a href=\"#cite_note-booster-11\">[b]</a></sup>\n",
      "</th>\n",
      "<th scope=\"col\">Launch site\n",
      "</th>\n",
      "<th scope=\"col\">Payload<sup class=\"reference\" id=\"cite_ref-Dragon_12-0\"><a href=\"#cite_note-Dragon-12\">[c]</a></sup>\n",
      "</th>\n",
      "<th scope=\"col\">Payload mass\n",
      "</th>\n",
      "<th scope=\"col\">Orbit\n",
      "</th>\n",
      "<th scope=\"col\">Customer\n",
      "</th>\n",
      "<th scope=\"col\">Launch<br/>outcome\n",
      "</th>\n",
      "<th scope=\"col\"><a href=\"/wiki/Falcon_9_first-stage_landing_tests\" title=\"Falcon 9 first-stage landing tests\">Booster<br/>landing</a>\n",
      "</th></tr>\n"
     ]
    }
   ],
   "source": [
    "# Let's print the third table and check its content\n",
    "first_launch_table = html_tables[2]\n",
    "print(first_launch_table)"
   ]
  },
  {
   "cell_type": "markdown",
   "metadata": {},
   "source": [
    "You should able to see the columns names embedded in the table header elements `<th>` as follows:\n"
   ]
  },
  {
   "cell_type": "markdown",
   "metadata": {},
   "source": [
    "```\n",
    "<tr>\n",
    "<th scope=\"col\">Flight No.\n",
    "</th>\n",
    "<th scope=\"col\">Date and<br/>time (<a href=\"/wiki/Coordinated_Universal_Time\" title=\"Coordinated Universal Time\">UTC</a>)\n",
    "</th>\n",
    "<th scope=\"col\"><a href=\"/wiki/List_of_Falcon_9_first-stage_boosters\" title=\"List of Falcon 9 first-stage boosters\">Version,<br/>Booster</a> <sup class=\"reference\" id=\"cite_ref-booster_11-0\"><a href=\"#cite_note-booster-11\">[b]</a></sup>\n",
    "</th>\n",
    "<th scope=\"col\">Launch site\n",
    "</th>\n",
    "<th scope=\"col\">Payload<sup class=\"reference\" id=\"cite_ref-Dragon_12-0\"><a href=\"#cite_note-Dragon-12\">[c]</a></sup>\n",
    "</th>\n",
    "<th scope=\"col\">Payload mass\n",
    "</th>\n",
    "<th scope=\"col\">Orbit\n",
    "</th>\n",
    "<th scope=\"col\">Customer\n",
    "</th>\n",
    "<th scope=\"col\">Launch<br/>outcome\n",
    "</th>\n",
    "<th scope=\"col\"><a href=\"/wiki/Falcon_9_first-stage_landing_tests\" title=\"Falcon 9 first-stage landing tests\">Booster<br/>landing</a>\n",
    "</th></tr>\n",
    "```\n"
   ]
  },
  {
   "cell_type": "markdown",
   "metadata": {},
   "source": [
    "Next, we just need to iterate through the `<th>` elements and apply the provided `extract_column_from_header()` to extract column name one by one\n"
   ]
  },
  {
   "cell_type": "code",
   "execution_count": 10,
   "metadata": {},
   "outputs": [],
   "source": [
    "column_names = []\n",
    "\n",
    "for n in first_launch_table.find_all('th'):\n",
    "    name = extract_column_from_header(n)\n",
    "    if (name != None and len(name) > 0):\n",
    "        column_names.append(name)"
   ]
  },
  {
   "cell_type": "markdown",
   "metadata": {},
   "source": [
    "Check the extracted column names\n"
   ]
  },
  {
   "cell_type": "code",
   "execution_count": 11,
   "metadata": {},
   "outputs": [
    {
     "name": "stdout",
     "output_type": "stream",
     "text": [
      "['Flight No.', 'Date and time ( )', 'Launch site', 'Payload', 'Payload mass', 'Orbit', 'Customer', 'Launch outcome']\n"
     ]
    }
   ],
   "source": [
    "print(column_names)"
   ]
  },
  {
   "cell_type": "markdown",
   "metadata": {},
   "source": [
    "## TASK 3: Create a data frame by parsing the launch HTML tables\n"
   ]
  },
  {
   "cell_type": "markdown",
   "metadata": {},
   "source": [
    "We will create an empty dictionary with keys from the extracted column names in the previous task. Later, this dictionary will be converted into a Pandas dataframe\n"
   ]
  },
  {
   "cell_type": "code",
   "execution_count": 12,
   "metadata": {},
   "outputs": [],
   "source": [
    "launch_dict= dict.fromkeys(column_names)\n",
    "\n",
    "# Remove an irrelvant column\n",
    "del launch_dict['Date and time ( )']\n",
    "\n",
    "# Let's initial the launch_dict with each value to be an empty list\n",
    "launch_dict['Flight No.'] = []\n",
    "launch_dict['Launch site'] = []\n",
    "launch_dict['Payload'] = []\n",
    "launch_dict['Payload mass'] = []\n",
    "launch_dict['Orbit'] = []\n",
    "launch_dict['Customer'] = []\n",
    "launch_dict['Launch outcome'] = []\n",
    "# Added some new columns\n",
    "launch_dict['Version Booster']=[]\n",
    "launch_dict['Booster landing']=[]\n",
    "launch_dict['Date']=[]\n",
    "launch_dict['Time']=[]"
   ]
  },
  {
   "cell_type": "markdown",
   "metadata": {},
   "source": [
    "Next, we just need to fill up the `launch_dict` with launch records extracted from table rows.\n"
   ]
  },
  {
   "cell_type": "markdown",
   "metadata": {},
   "source": [
    "Usually, HTML tables in Wiki pages are likely to contain unexpected annotations and other types of noises, such as reference links `B0004.1[8]`, missing values `N/A [e]`, inconsistent formatting, etc.\n"
   ]
  },
  {
   "cell_type": "markdown",
   "metadata": {},
   "source": [
    "To simplify the parsing process, we have provided an incomplete code snippet below to help you to fill up the `launch_dict`. Please complete the following code snippet with TODOs or you can choose to write your own logic to parse all launch tables:\n"
   ]
  },
  {
   "cell_type": "code",
   "execution_count": 13,
   "metadata": {},
   "outputs": [],
   "source": [
    "extracted_row = 0\n",
    "#Extract each table \n",
    "for table_number,table in enumerate(soup.find_all('table',\"wikitable plainrowheaders collapsible\")):\n",
    "   # get table row \n",
    "    for rows in table.find_all(\"tr\"):\n",
    "        #check to see if first table heading is as number corresponding to launch a number \n",
    "        if rows.th:\n",
    "            if rows.th.string:\n",
    "                flight_number=rows.th.string.strip()\n",
    "                flag=flight_number.isdigit()\n",
    "        else:\n",
    "            flag=False\n",
    "        #get table element \n",
    "        row=rows.find_all('td')\n",
    "        #if it is number save cells in a dictonary \n",
    "        if flag:\n",
    "            extracted_row += 1\n",
    "            # Flight Number value\n",
    "      \n",
    "            launch_dict[\"Flight No.\"].append(flight_number)\n",
    "\n",
    "            datatimelist=date_time(row[0])\n",
    "            # Date value\n",
    "        \n",
    "            date = datatimelist[0].strip(',')\n",
    "            launch_dict[\"Date\"].append(date)\n",
    "    \n",
    "            \n",
    "            # Time value\n",
    "        \n",
    "            time = datatimelist[1]\n",
    "            launch_dict[\"Time\"].append(time)\n",
    "\n",
    "              \n",
    "            # Booster version\n",
    "\n",
    "            bv=booster_version(row[1])\n",
    "            if not(bv):\n",
    "                bv=row[1].a.string\n",
    "            launch_dict[\"Version Booster\"].append(bv)\n",
    " \n",
    "            \n",
    "            # Launch Site\n",
    "       \n",
    "            launch_site = row[2].a.string\n",
    "            launch_dict[\"Launch site\"].append(launch_site)\n",
    "\n",
    "            \n",
    "            # Payload\n",
    "  \n",
    "            payload = row[3].a.string\n",
    "            launch_dict[\"Payload\"].append(payload)\n",
    "\n",
    "            \n",
    "            # Payload Mass\n",
    "         \n",
    "            payload_mass = get_mass(row[4])\n",
    "            launch_dict[\"Payload mass\"].append(payload_mass)\n",
    "  \n",
    "            \n",
    "            # Orbit\n",
    "\n",
    "            orbit = row[5].a.string\n",
    "            launch_dict[\"Orbit\"].append(orbit)\n",
    "            \n",
    "            # Customer\n",
    "       \n",
    "            customer = row[6].a\n",
    "            launch_dict[\"Customer\"].append(str(customer))\n",
    "\n",
    "            # Launch outcome\n",
    "       \n",
    "            launch_outcome = list(row[7].strings)[0]\n",
    "            launch_dict[\"Launch outcome\"].append(launch_outcome)\n",
    "\n",
    "            \n",
    "            # Booster landing\n",
    "        \n",
    "            booster_landing = landing_status(row[8])\n",
    "            launch_dict[\"Booster landing\"].append(booster_landing)"
   ]
  },
  {
   "cell_type": "markdown",
   "metadata": {},
   "source": [
    "After you have fill in the parsed launch record values into `launch_dict`, you can create a dataframe from it.\n"
   ]
  },
  {
   "cell_type": "code",
   "execution_count": 14,
   "metadata": {},
   "outputs": [],
   "source": [
    "headings = []\n",
    "for key,values in dict(launch_dict).items():\n",
    "    if key not in headings:\n",
    "        headings.append(key)\n",
    "    if values is None:\n",
    "        del launch_dict[key]\n",
    "\n",
    "def pad_dict_list(dict_list, padel):\n",
    "    lmax = 0\n",
    "    for lname in dict_list.keys():\n",
    "        lmax = max(lmax, len(dict_list[lname]))\n",
    "    for lname in dict_list.keys():\n",
    "        ll = len(dict_list[lname])\n",
    "        if  ll < lmax:\n",
    "            dict_list[lname] += [padel] * (lmax - ll)\n",
    "    return dict_list\n",
    "\n",
    "pad_dict_list(launch_dict,0)\n",
    "\n",
    "df = pd.DataFrame.from_dict(launch_dict)"
   ]
  },
  {
   "cell_type": "code",
   "execution_count": 15,
   "metadata": {},
   "outputs": [
    {
     "data": {
      "text/html": [
       "<div>\n",
       "<style scoped>\n",
       "    .dataframe tbody tr th:only-of-type {\n",
       "        vertical-align: middle;\n",
       "    }\n",
       "\n",
       "    .dataframe tbody tr th {\n",
       "        vertical-align: top;\n",
       "    }\n",
       "\n",
       "    .dataframe thead th {\n",
       "        text-align: right;\n",
       "    }\n",
       "</style>\n",
       "<table border=\"1\" class=\"dataframe\">\n",
       "  <thead>\n",
       "    <tr style=\"text-align: right;\">\n",
       "      <th></th>\n",
       "      <th>Flight No.</th>\n",
       "      <th>Launch site</th>\n",
       "      <th>Payload</th>\n",
       "      <th>Payload mass</th>\n",
       "      <th>Orbit</th>\n",
       "      <th>Customer</th>\n",
       "      <th>Launch outcome</th>\n",
       "      <th>Version Booster</th>\n",
       "      <th>Booster landing</th>\n",
       "      <th>Date</th>\n",
       "      <th>Time</th>\n",
       "    </tr>\n",
       "  </thead>\n",
       "  <tbody>\n",
       "    <tr>\n",
       "      <th>0</th>\n",
       "      <td>1</td>\n",
       "      <td>CCAFS</td>\n",
       "      <td>Dragon Spacecraft Qualification Unit</td>\n",
       "      <td>0</td>\n",
       "      <td>LEO</td>\n",
       "      <td>&lt;a href=\"/wiki/SpaceX\" title=\"SpaceX\"&gt;SpaceX&lt;/a&gt;</td>\n",
       "      <td>Success\\n</td>\n",
       "      <td>F9 v1.0B0003.1</td>\n",
       "      <td>Failure</td>\n",
       "      <td>4 June 2010</td>\n",
       "      <td>18:45</td>\n",
       "    </tr>\n",
       "    <tr>\n",
       "      <th>1</th>\n",
       "      <td>2</td>\n",
       "      <td>CCAFS</td>\n",
       "      <td>Dragon</td>\n",
       "      <td>0</td>\n",
       "      <td>LEO</td>\n",
       "      <td>&lt;a href=\"/wiki/NASA\" title=\"NASA\"&gt;NASA&lt;/a&gt;</td>\n",
       "      <td>Success</td>\n",
       "      <td>F9 v1.0B0004.1</td>\n",
       "      <td>Failure</td>\n",
       "      <td>8 December 2010</td>\n",
       "      <td>15:43</td>\n",
       "    </tr>\n",
       "    <tr>\n",
       "      <th>2</th>\n",
       "      <td>3</td>\n",
       "      <td>CCAFS</td>\n",
       "      <td>Dragon</td>\n",
       "      <td>525 kg</td>\n",
       "      <td>LEO</td>\n",
       "      <td>&lt;a href=\"/wiki/NASA\" title=\"NASA\"&gt;NASA&lt;/a&gt;</td>\n",
       "      <td>Success</td>\n",
       "      <td>F9 v1.0B0005.1</td>\n",
       "      <td>No attempt\\n</td>\n",
       "      <td>22 May 2012</td>\n",
       "      <td>07:44</td>\n",
       "    </tr>\n",
       "    <tr>\n",
       "      <th>3</th>\n",
       "      <td>4</td>\n",
       "      <td>CCAFS</td>\n",
       "      <td>SpaceX CRS-1</td>\n",
       "      <td>4,700 kg</td>\n",
       "      <td>LEO</td>\n",
       "      <td>&lt;a href=\"/wiki/NASA\" title=\"NASA\"&gt;NASA&lt;/a&gt;</td>\n",
       "      <td>Success\\n</td>\n",
       "      <td>F9 v1.0B0006.1</td>\n",
       "      <td>No attempt</td>\n",
       "      <td>8 October 2012</td>\n",
       "      <td>00:35</td>\n",
       "    </tr>\n",
       "    <tr>\n",
       "      <th>4</th>\n",
       "      <td>5</td>\n",
       "      <td>CCAFS</td>\n",
       "      <td>SpaceX CRS-2</td>\n",
       "      <td>4,877 kg</td>\n",
       "      <td>LEO</td>\n",
       "      <td>&lt;a href=\"/wiki/NASA\" title=\"NASA\"&gt;NASA&lt;/a&gt;</td>\n",
       "      <td>Success\\n</td>\n",
       "      <td>F9 v1.0B0007.1</td>\n",
       "      <td>No attempt\\n</td>\n",
       "      <td>1 March 2013</td>\n",
       "      <td>15:10</td>\n",
       "    </tr>\n",
       "  </tbody>\n",
       "</table>\n",
       "</div>"
      ],
      "text/plain": [
       "  Flight No. Launch site                               Payload Payload mass  \\\n",
       "0          1       CCAFS  Dragon Spacecraft Qualification Unit            0   \n",
       "1          2       CCAFS                                Dragon            0   \n",
       "2          3       CCAFS                                Dragon       525 kg   \n",
       "3          4       CCAFS                          SpaceX CRS-1     4,700 kg   \n",
       "4          5       CCAFS                          SpaceX CRS-2     4,877 kg   \n",
       "\n",
       "  Orbit                                          Customer Launch outcome  \\\n",
       "0   LEO  <a href=\"/wiki/SpaceX\" title=\"SpaceX\">SpaceX</a>      Success\\n   \n",
       "1   LEO        <a href=\"/wiki/NASA\" title=\"NASA\">NASA</a>        Success   \n",
       "2   LEO        <a href=\"/wiki/NASA\" title=\"NASA\">NASA</a>        Success   \n",
       "3   LEO        <a href=\"/wiki/NASA\" title=\"NASA\">NASA</a>      Success\\n   \n",
       "4   LEO        <a href=\"/wiki/NASA\" title=\"NASA\">NASA</a>      Success\\n   \n",
       "\n",
       "  Version Booster Booster landing             Date   Time  \n",
       "0  F9 v1.0B0003.1         Failure      4 June 2010  18:45  \n",
       "1  F9 v1.0B0004.1         Failure  8 December 2010  15:43  \n",
       "2  F9 v1.0B0005.1    No attempt\\n      22 May 2012  07:44  \n",
       "3  F9 v1.0B0006.1      No attempt   8 October 2012  00:35  \n",
       "4  F9 v1.0B0007.1    No attempt\\n     1 March 2013  15:10  "
      ]
     },
     "execution_count": 15,
     "metadata": {},
     "output_type": "execute_result"
    }
   ],
   "source": [
    "df.head()"
   ]
  },
  {
   "cell_type": "markdown",
   "metadata": {},
   "source": [
    "We can now export it to a <b>CSV</b> for the next section, but to make the answers consistent and in case you have difficulties finishing this lab.\n",
    "\n",
    "Following labs will be using a provided dataset to make each lab independent.\n"
   ]
  },
  {
   "cell_type": "markdown",
   "metadata": {},
   "source": [
    "<code>df.to_csv('spacex_web_scraped.csv', index=False)</code>\n"
   ]
  },
  {
   "cell_type": "code",
   "execution_count": 16,
   "metadata": {},
   "outputs": [
    {
     "data": {
      "text/html": [
       "<a download=\"spacex_web_scraped.csv\" href=\"data:text/csv;base64,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\" target=\"_blank\">Download my data</a>"
      ],
      "text/plain": [
       "<IPython.core.display.HTML object>"
      ]
     },
     "execution_count": 16,
     "metadata": {},
     "output_type": "execute_result"
    }
   ],
   "source": [
    "# Define functions to download as CSV\n",
    "from IPython.display import HTML\n",
    "import pandas as pd\n",
    "import base64, io\n",
    "\n",
    "# Download as CSV: data frame, optional title and filename\n",
    "def create_download_link_csv(df, title = \"Download CSV file\", filename = \"data.csv\"):  \n",
    "    # generate in-memory CSV, then base64-encode it\n",
    "    csv = df.to_csv(index=False)\n",
    "    b64 = base64.b64encode(csv.encode())\n",
    "    payload = b64.decode()\n",
    "    html = '<a download=\"{filename}\" href=\"data:text/csv;base64,{payload}\" target=\"_blank\">{title}</a>'\n",
    "    html = html.format(payload=payload,title=title,filename=filename)\n",
    "    return HTML(html)\n",
    "\n",
    "# Download as CSV\n",
    "create_download_link_csv(df,\"Download my data\",\"spacex_web_scraped.csv\")"
   ]
  },
  {
   "cell_type": "markdown",
   "metadata": {},
   "source": [
    "## Authors\n"
   ]
  },
  {
   "cell_type": "markdown",
   "metadata": {},
   "source": [
    "<a href=\"https://www.linkedin.com/in/yan-luo-96288783/?utm_medium=Exinfluencer&utm_source=Exinfluencer&utm_content=000026UJ&utm_term=10006555&utm_id=NA-SkillsNetwork-Channel-SkillsNetworkCoursesIBMDS0321ENSkillsNetwork26802033-2021-01-01\">Yan Luo</a>\n"
   ]
  },
  {
   "cell_type": "markdown",
   "metadata": {},
   "source": [
    "<a href=\"https://www.linkedin.com/in/nayefaboutayoun/?utm_medium=Exinfluencer&utm_source=Exinfluencer&utm_content=000026UJ&utm_term=10006555&utm_id=NA-SkillsNetwork-Channel-SkillsNetworkCoursesIBMDS0321ENSkillsNetwork26802033-2021-01-01\">Nayef Abou Tayoun</a>\n"
   ]
  },
  {
   "cell_type": "markdown",
   "metadata": {},
   "source": [
    "## Change Log\n"
   ]
  },
  {
   "cell_type": "markdown",
   "metadata": {},
   "source": [
    "| Date (YYYY-MM-DD) | Version | Changed By | Change Description          |\n",
    "| ----------------- | ------- | ---------- | --------------------------- |\n",
    "| 2021-06-09        | 1.0     | Yan Luo    | Tasks updates               |\n",
    "| 2020-11-10        | 1.0     | Nayef      | Created the initial version |\n"
   ]
  },
  {
   "cell_type": "markdown",
   "metadata": {},
   "source": [
    "Copyright © 2021 IBM Corporation. All rights reserved.\n"
   ]
  }
 ],
 "metadata": {
  "kernelspec": {
   "display_name": "Python 3",
   "language": "python",
   "name": "python3"
  },
  "language_info": {
   "codemirror_mode": {
    "name": "ipython",
    "version": 3
   },
   "file_extension": ".py",
   "mimetype": "text/x-python",
   "name": "python",
   "nbconvert_exporter": "python",
   "pygments_lexer": "ipython3",
   "version": "3.8.8"
  }
 },
 "nbformat": 4,
 "nbformat_minor": 4
}
