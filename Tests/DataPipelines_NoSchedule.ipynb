{
 "cells": [
  {
   "cell_type": "code",
   "execution_count": 93,
   "id": "34a9d1f2",
   "metadata": {},
   "outputs": [],
   "source": [
    "# Import nesscary libraries.\n",
    "\n",
    "import pandas as pd\n",
    "import numpy as np"
   ]
  },
  {
   "cell_type": "code",
   "execution_count": 94,
   "id": "990b0cb4",
   "metadata": {},
   "outputs": [],
   "source": [
    "# Read CSV 1 file, convert into dataframe.\n",
    "\n",
    "# The URL link to view the csv file in GitHub is \"https://github.com/jaabberwocky/dataeng_test/blob/master/dataset1.csv\".\n",
    "# The raw dataset link is \"https://raw.githubusercontent.com/jaabberwocky/dataeng_test/master/dataset1.csv\". - Remember to remove \"/blob\".\n",
    "\n",
    "csv_file1_url = \"https://raw.githubusercontent.com/jaabberwocky/dataeng_test/master/dataset1.csv\""
   ]
  },
  {
   "cell_type": "code",
   "execution_count": 95,
   "id": "17171083",
   "metadata": {},
   "outputs": [
    {
     "data": {
      "text/html": [
       "<div>\n",
       "<style scoped>\n",
       "    .dataframe tbody tr th:only-of-type {\n",
       "        vertical-align: middle;\n",
       "    }\n",
       "\n",
       "    .dataframe tbody tr th {\n",
       "        vertical-align: top;\n",
       "    }\n",
       "\n",
       "    .dataframe thead th {\n",
       "        text-align: right;\n",
       "    }\n",
       "</style>\n",
       "<table border=\"1\" class=\"dataframe\">\n",
       "  <thead>\n",
       "    <tr style=\"text-align: right;\">\n",
       "      <th></th>\n",
       "      <th>name</th>\n",
       "      <th>price</th>\n",
       "    </tr>\n",
       "  </thead>\n",
       "  <tbody>\n",
       "    <tr>\n",
       "      <th>0</th>\n",
       "      <td>William Dixon</td>\n",
       "      <td>109.037280</td>\n",
       "    </tr>\n",
       "    <tr>\n",
       "      <th>1</th>\n",
       "      <td>Kristen Horn</td>\n",
       "      <td>262.524652</td>\n",
       "    </tr>\n",
       "    <tr>\n",
       "      <th>2</th>\n",
       "      <td>Kimberly Chang</td>\n",
       "      <td>187.007258</td>\n",
       "    </tr>\n",
       "    <tr>\n",
       "      <th>3</th>\n",
       "      <td>Mary Ball</td>\n",
       "      <td>283.174648</td>\n",
       "    </tr>\n",
       "    <tr>\n",
       "      <th>4</th>\n",
       "      <td>Benjamin Craig</td>\n",
       "      <td>143.871582</td>\n",
       "    </tr>\n",
       "  </tbody>\n",
       "</table>\n",
       "</div>"
      ],
      "text/plain": [
       "             name       price\n",
       "0   William Dixon  109.037280\n",
       "1    Kristen Horn  262.524652\n",
       "2  Kimberly Chang  187.007258\n",
       "3       Mary Ball  283.174648\n",
       "4  Benjamin Craig  143.871582"
      ]
     },
     "execution_count": 95,
     "metadata": {},
     "output_type": "execute_result"
    }
   ],
   "source": [
    "csv1_df = pd.read_csv(csv_file1_url, sep=',')\n",
    "csv1_df.head()"
   ]
  },
  {
   "cell_type": "code",
   "execution_count": 96,
   "id": "5c023232",
   "metadata": {},
   "outputs": [],
   "source": [
    "# Read CSV 2 file, convert into dataframe.\n",
    "\n",
    "# The URL link to view the csv file in GitHub is \"https://github.com/jaabberwocky/dataeng_test/blob/master/dataset2.csv\".\n",
    "# The raw dataset link is \"https://raw.githubusercontent.com/jaabberwocky/dataeng_test/master/dataset2.csv\". - Remember to remove \"/blob\".\n",
    "\n",
    "csv_file2_url = \"https://raw.githubusercontent.com/jaabberwocky/dataeng_test/master/dataset2.csv\""
   ]
  },
  {
   "cell_type": "code",
   "execution_count": 97,
   "id": "ac69785f",
   "metadata": {},
   "outputs": [
    {
     "data": {
      "text/html": [
       "<div>\n",
       "<style scoped>\n",
       "    .dataframe tbody tr th:only-of-type {\n",
       "        vertical-align: middle;\n",
       "    }\n",
       "\n",
       "    .dataframe tbody tr th {\n",
       "        vertical-align: top;\n",
       "    }\n",
       "\n",
       "    .dataframe thead th {\n",
       "        text-align: right;\n",
       "    }\n",
       "</style>\n",
       "<table border=\"1\" class=\"dataframe\">\n",
       "  <thead>\n",
       "    <tr style=\"text-align: right;\">\n",
       "      <th></th>\n",
       "      <th>name</th>\n",
       "      <th>price</th>\n",
       "    </tr>\n",
       "  </thead>\n",
       "  <tbody>\n",
       "    <tr>\n",
       "      <th>0</th>\n",
       "      <td>William Garcia</td>\n",
       "      <td>258.1809089</td>\n",
       "    </tr>\n",
       "    <tr>\n",
       "      <th>1</th>\n",
       "      <td>Barbara Freeman</td>\n",
       "      <td>141.890534</td>\n",
       "    </tr>\n",
       "    <tr>\n",
       "      <th>2</th>\n",
       "      <td>Rebecca Zimmerman</td>\n",
       "      <td>293.373272</td>\n",
       "    </tr>\n",
       "    <tr>\n",
       "      <th>3</th>\n",
       "      <td>Patricia Velasquez</td>\n",
       "      <td>249.9479246</td>\n",
       "    </tr>\n",
       "    <tr>\n",
       "      <th>4</th>\n",
       "      <td>Ronnie Clark</td>\n",
       "      <td>272.908659</td>\n",
       "    </tr>\n",
       "  </tbody>\n",
       "</table>\n",
       "</div>"
      ],
      "text/plain": [
       "                 name        price\n",
       "0      William Garcia  258.1809089\n",
       "1     Barbara Freeman   141.890534\n",
       "2   Rebecca Zimmerman   293.373272\n",
       "3  Patricia Velasquez  249.9479246\n",
       "4        Ronnie Clark   272.908659"
      ]
     },
     "execution_count": 97,
     "metadata": {},
     "output_type": "execute_result"
    }
   ],
   "source": [
    "csv2_df = pd.read_csv(csv_file2_url, sep=',')\n",
    "csv2_df.head()"
   ]
  },
  {
   "cell_type": "code",
   "execution_count": 98,
   "id": "97081506",
   "metadata": {},
   "outputs": [
    {
     "data": {
      "text/plain": [
       "10000"
      ]
     },
     "execution_count": 98,
     "metadata": {},
     "output_type": "execute_result"
    }
   ],
   "source": [
    "# Combine the 2 dataframes into 1 dataframe.\n",
    "\n",
    "combined_csv = pd.concat([csv1_df, csv2_df])\n",
    "\n",
    "# Check the number of rows in the new dataframe.\n",
    "\n",
    "len(combined_csv)"
   ]
  },
  {
   "cell_type": "code",
   "execution_count": 99,
   "id": "13715752",
   "metadata": {},
   "outputs": [
    {
     "data": {
      "text/plain": [
       "name     39\n",
       "price     0\n",
       "dtype: int64"
      ]
     },
     "execution_count": 99,
     "metadata": {},
     "output_type": "execute_result"
    }
   ],
   "source": [
    "# Check the number of missing values in the combined_csv.\n",
    "\n",
    "combined_csv.isnull().sum()"
   ]
  },
  {
   "cell_type": "code",
   "execution_count": 100,
   "id": "e06e20b5",
   "metadata": {},
   "outputs": [],
   "source": [
    "# Only 'name' column have missing value. So remove rows which do not have a name.\n",
    "\n",
    "combined_csv = combined_csv.dropna()"
   ]
  },
  {
   "cell_type": "code",
   "execution_count": 101,
   "id": "8e282e82",
   "metadata": {},
   "outputs": [
    {
     "data": {
      "text/plain": [
       "name     0\n",
       "price    0\n",
       "dtype: int64"
      ]
     },
     "execution_count": 101,
     "metadata": {},
     "output_type": "execute_result"
    }
   ],
   "source": [
    "# Check the number of missing values in the combined_csv again.\n",
    "\n",
    "combined_csv.isnull().sum()"
   ]
  },
  {
   "cell_type": "code",
   "execution_count": 102,
   "id": "7ac84f74",
   "metadata": {},
   "outputs": [
    {
     "data": {
      "text/plain": [
       "9961"
      ]
     },
     "execution_count": 102,
     "metadata": {},
     "output_type": "execute_result"
    }
   ],
   "source": [
    "# After the removal, check the number of rows in the new dataframe again.\n",
    "# By right, the number of rows should be 9961 (10000-39).\n",
    "\n",
    "len(combined_csv)"
   ]
  },
  {
   "cell_type": "code",
   "execution_count": 103,
   "id": "d51d3ef9",
   "metadata": {},
   "outputs": [
    {
     "data": {
      "text/html": [
       "<div>\n",
       "<style scoped>\n",
       "    .dataframe tbody tr th:only-of-type {\n",
       "        vertical-align: middle;\n",
       "    }\n",
       "\n",
       "    .dataframe tbody tr th {\n",
       "        vertical-align: top;\n",
       "    }\n",
       "\n",
       "    .dataframe thead th {\n",
       "        text-align: right;\n",
       "    }\n",
       "</style>\n",
       "<table border=\"1\" class=\"dataframe\">\n",
       "  <thead>\n",
       "    <tr style=\"text-align: right;\">\n",
       "      <th></th>\n",
       "      <th>name</th>\n",
       "      <th>price</th>\n",
       "    </tr>\n",
       "  </thead>\n",
       "  <tbody>\n",
       "    <tr>\n",
       "      <th>0</th>\n",
       "      <td>William Dixon</td>\n",
       "      <td>109.037</td>\n",
       "    </tr>\n",
       "    <tr>\n",
       "      <th>1</th>\n",
       "      <td>Kristen Horn</td>\n",
       "      <td>262.525</td>\n",
       "    </tr>\n",
       "    <tr>\n",
       "      <th>2</th>\n",
       "      <td>Kimberly Chang</td>\n",
       "      <td>187.007</td>\n",
       "    </tr>\n",
       "    <tr>\n",
       "      <th>3</th>\n",
       "      <td>Mary Ball</td>\n",
       "      <td>283.175</td>\n",
       "    </tr>\n",
       "    <tr>\n",
       "      <th>4</th>\n",
       "      <td>Benjamin Craig</td>\n",
       "      <td>143.872</td>\n",
       "    </tr>\n",
       "    <tr>\n",
       "      <th>...</th>\n",
       "      <td>...</td>\n",
       "      <td>...</td>\n",
       "    </tr>\n",
       "    <tr>\n",
       "      <th>9956</th>\n",
       "      <td>Rachel Davis</td>\n",
       "      <td>95.25395533</td>\n",
       "    </tr>\n",
       "    <tr>\n",
       "      <th>9957</th>\n",
       "      <td>Connie Hamilton</td>\n",
       "      <td>205.3966853</td>\n",
       "    </tr>\n",
       "    <tr>\n",
       "      <th>9958</th>\n",
       "      <td>Sean Kaiser</td>\n",
       "      <td>80.54737145</td>\n",
       "    </tr>\n",
       "    <tr>\n",
       "      <th>9959</th>\n",
       "      <td>Ebony Rodriguez</td>\n",
       "      <td>93.20561606</td>\n",
       "    </tr>\n",
       "    <tr>\n",
       "      <th>9960</th>\n",
       "      <td>Gregg Alexander</td>\n",
       "      <td>297.046886</td>\n",
       "    </tr>\n",
       "  </tbody>\n",
       "</table>\n",
       "<p>9961 rows × 2 columns</p>\n",
       "</div>"
      ],
      "text/plain": [
       "                 name        price\n",
       "0       William Dixon      109.037\n",
       "1        Kristen Horn      262.525\n",
       "2      Kimberly Chang      187.007\n",
       "3           Mary Ball      283.175\n",
       "4      Benjamin Craig      143.872\n",
       "...               ...          ...\n",
       "9956     Rachel Davis  95.25395533\n",
       "9957  Connie Hamilton  205.3966853\n",
       "9958      Sean Kaiser  80.54737145\n",
       "9959  Ebony Rodriguez  93.20561606\n",
       "9960  Gregg Alexander   297.046886\n",
       "\n",
       "[9961 rows x 2 columns]"
      ]
     },
     "execution_count": 103,
     "metadata": {},
     "output_type": "execute_result"
    }
   ],
   "source": [
    "# Remove the old index (with \"drop=True\"), recount new index values and add into the dataframe.\n",
    "\n",
    "combined_csv.reset_index(drop=True)"
   ]
  },
  {
   "cell_type": "code",
   "execution_count": 104,
   "id": "d6d7791a",
   "metadata": {},
   "outputs": [
    {
     "data": {
      "text/plain": [
       "name     object\n",
       "price    object\n",
       "dtype: object"
      ]
     },
     "execution_count": 104,
     "metadata": {},
     "output_type": "execute_result"
    }
   ],
   "source": [
    "# Check the datatype of the 2 columns.\n",
    "\n",
    "combined_csv.dtypes"
   ]
  },
  {
   "cell_type": "code",
   "execution_count": 105,
   "id": "95e8d382",
   "metadata": {},
   "outputs": [
    {
     "name": "stdout",
     "output_type": "stream",
     "text": [
      "Count \"Mr.\" : 43\n",
      "Count \"Mrs.\": 48\n",
      "Count \"Ms.\" : 13\n",
      "Count \"Miss\": 11\n",
      "Count \"Dr.\" : 54\n",
      "Count \"PhD\" : 22\n",
      "Count \"MD\"  : 92\n",
      "Count \"DDS\" : 63\n",
      "Count \"DVM\" : 40\n",
      "Count \"II\"  : 9\n",
      "Count \"III\" : 4\n",
      "Count \"IV\"  : 1\n",
      "Count \"Jr.\" : 17\n"
     ]
    }
   ],
   "source": [
    "# Check the name suffixes/titles/prefixes in name column.\n",
    "\n",
    "print('Count \"Mr.\" :', combined_csv.name.str.contains('Mr. ').sum())\n",
    "print('Count \"Mrs.\":', combined_csv.name.str.contains('Mrs. ').sum())\n",
    "print('Count \"Ms.\" :', combined_csv.name.str.contains('Ms. ').sum())\n",
    "print('Count \"Miss\":', combined_csv.name.str.contains('Miss ').sum())\n",
    "print('Count \"Dr.\" :', combined_csv.name.str.contains('Dr. ').sum())\n",
    "print('Count \"PhD\" :', combined_csv.name.str.contains(' PhD').sum())\n",
    "print('Count \"MD\"  :', combined_csv.name.str.contains(' MD').sum())\n",
    "print('Count \"DDS\" :', combined_csv.name.str.contains(' DDS').sum())\n",
    "print('Count \"DVM\" :', combined_csv.name.str.contains(' DVM').sum())\n",
    "print('Count \"II\"  :', combined_csv.name.str.contains(' II').sum())\n",
    "print('Count \"III\" :', combined_csv.name.str.contains(' III').sum())\n",
    "print('Count \"IV\"  :', combined_csv.name.str.contains(' IV').sum())\n",
    "print('Count \"Jr.\" :', combined_csv.name.str.contains(' Jr.').sum())"
   ]
  },
  {
   "cell_type": "code",
   "execution_count": 106,
   "id": "6b26582f",
   "metadata": {},
   "outputs": [],
   "source": [
    "# Remove all the suffix/titles.\n",
    "\n",
    "combined_csv['name'] = combined_csv['name'].str.replace('Mr. |Mrs. |Ms. |Miss |Dr. | PhD| MD| DDS| DVM| II| III| IV| Jr.', \"\", regex=True)"
   ]
  },
  {
   "cell_type": "code",
   "execution_count": 107,
   "id": "c790f9d8",
   "metadata": {},
   "outputs": [
    {
     "name": "stdout",
     "output_type": "stream",
     "text": [
      "Count \"Mr.\" : 0\n",
      "Count \"Mrs.\": 0\n",
      "Count \"Ms.\" : 0\n",
      "Count \"Miss\": 0\n",
      "Count \"Dr.\" : 0\n",
      "Count \"PhD\" : 0\n",
      "Count \"MD\"  : 0\n",
      "Count \"DDS\" : 0\n",
      "Count \"DVM\" : 0\n",
      "Count \"II\"  : 0\n",
      "Count \"III\" : 0\n",
      "Count \"IV\"  : 0\n",
      "Count \"Jr.\" : 0\n"
     ]
    }
   ],
   "source": [
    "# Count the suffix/titles in name column again.\n",
    "\n",
    "print('Count \"Mr.\" :', combined_csv.name.str.contains('Mr. ').sum())\n",
    "print('Count \"Mrs.\":', combined_csv.name.str.contains('Mrs. ').sum())\n",
    "print('Count \"Ms.\" :', combined_csv.name.str.contains('Ms. ').sum())\n",
    "print('Count \"Miss\":', combined_csv.name.str.contains('Miss ').sum())\n",
    "print('Count \"Dr.\" :', combined_csv.name.str.contains('Dr. ').sum())\n",
    "print('Count \"PhD\" :', combined_csv.name.str.contains(' PhD').sum())\n",
    "print('Count \"MD\"  :', combined_csv.name.str.contains(' MD').sum())\n",
    "print('Count \"DDS\" :', combined_csv.name.str.contains(' DDS').sum())\n",
    "print('Count \"DVM\" :', combined_csv.name.str.contains(' DVM').sum())\n",
    "print('Count \"II\"  :', combined_csv.name.str.contains(' II').sum())\n",
    "print('Count \"III\" :', combined_csv.name.str.contains(' III').sum())\n",
    "print('Count \"IV\"  :', combined_csv.name.str.contains(' IV').sum())\n",
    "print('Count \"Jr.\" :', combined_csv.name.str.contains(' Jr.').sum())"
   ]
  },
  {
   "cell_type": "code",
   "execution_count": 108,
   "id": "9301508a",
   "metadata": {},
   "outputs": [
    {
     "data": {
      "text/plain": [
       "9961"
      ]
     },
     "execution_count": 108,
     "metadata": {},
     "output_type": "execute_result"
    }
   ],
   "source": [
    "# Check the number of rows again.\n",
    "\n",
    "len(combined_csv)"
   ]
  },
  {
   "cell_type": "code",
   "execution_count": 112,
   "id": "ac69eef0",
   "metadata": {},
   "outputs": [
    {
     "data": {
      "text/html": [
       "<div>\n",
       "<style scoped>\n",
       "    .dataframe tbody tr th:only-of-type {\n",
       "        vertical-align: middle;\n",
       "    }\n",
       "\n",
       "    .dataframe tbody tr th {\n",
       "        vertical-align: top;\n",
       "    }\n",
       "\n",
       "    .dataframe thead th {\n",
       "        text-align: right;\n",
       "    }\n",
       "</style>\n",
       "<table border=\"1\" class=\"dataframe\">\n",
       "  <thead>\n",
       "    <tr style=\"text-align: right;\">\n",
       "      <th></th>\n",
       "      <th>price</th>\n",
       "      <th>first_name</th>\n",
       "      <th>last_name</th>\n",
       "    </tr>\n",
       "  </thead>\n",
       "  <tbody>\n",
       "    <tr>\n",
       "      <th>0</th>\n",
       "      <td>109.037</td>\n",
       "      <td>William</td>\n",
       "      <td>Dixon</td>\n",
       "    </tr>\n",
       "    <tr>\n",
       "      <th>1</th>\n",
       "      <td>262.525</td>\n",
       "      <td>Kristen</td>\n",
       "      <td>Horn</td>\n",
       "    </tr>\n",
       "    <tr>\n",
       "      <th>2</th>\n",
       "      <td>187.007</td>\n",
       "      <td>Kimberly</td>\n",
       "      <td>Chang</td>\n",
       "    </tr>\n",
       "    <tr>\n",
       "      <th>3</th>\n",
       "      <td>283.175</td>\n",
       "      <td>Mary</td>\n",
       "      <td>Ball</td>\n",
       "    </tr>\n",
       "    <tr>\n",
       "      <th>4</th>\n",
       "      <td>143.872</td>\n",
       "      <td>Benjamin</td>\n",
       "      <td>Craig</td>\n",
       "    </tr>\n",
       "  </tbody>\n",
       "</table>\n",
       "</div>"
      ],
      "text/plain": [
       "     price first_name last_name\n",
       "0  109.037    William     Dixon\n",
       "1  262.525    Kristen      Horn\n",
       "2  187.007   Kimberly     Chang\n",
       "3  283.175       Mary      Ball\n",
       "4  143.872   Benjamin     Craig"
      ]
     },
     "execution_count": 112,
     "metadata": {},
     "output_type": "execute_result"
    }
   ],
   "source": [
    "# Spilt 'name' column into 'first_name' and 'last_name' new columns.\n",
    "\n",
    "firstname_lastname = combined_csv['name'].str.split(' ', 1, expand=True)\n",
    "\n",
    "combined_csv['first_name'] = firstname_lastname[0]\n",
    "combined_csv['last_name'] = firstname_lastname[1]\n",
    "\n",
    "# Drop the 'name' column.\n",
    "\n",
    "combined_csv.drop(columns = [\"name\"], inplace = True)\n",
    "\n",
    "# Check first 5 records.\n",
    "combined_csv.head()"
   ]
  },
  {
   "cell_type": "code",
   "execution_count": 113,
   "id": "8df8b851",
   "metadata": {},
   "outputs": [
    {
     "data": {
      "text/html": [
       "<div>\n",
       "<style scoped>\n",
       "    .dataframe tbody tr th:only-of-type {\n",
       "        vertical-align: middle;\n",
       "    }\n",
       "\n",
       "    .dataframe tbody tr th {\n",
       "        vertical-align: top;\n",
       "    }\n",
       "\n",
       "    .dataframe thead th {\n",
       "        text-align: right;\n",
       "    }\n",
       "</style>\n",
       "<table border=\"1\" class=\"dataframe\">\n",
       "  <thead>\n",
       "    <tr style=\"text-align: right;\">\n",
       "      <th></th>\n",
       "      <th>price</th>\n",
       "      <th>first_name</th>\n",
       "      <th>last_name</th>\n",
       "    </tr>\n",
       "  </thead>\n",
       "  <tbody>\n",
       "    <tr>\n",
       "      <th>0</th>\n",
       "      <td>109.04</td>\n",
       "      <td>William</td>\n",
       "      <td>Dixon</td>\n",
       "    </tr>\n",
       "    <tr>\n",
       "      <th>1</th>\n",
       "      <td>262.52</td>\n",
       "      <td>Kristen</td>\n",
       "      <td>Horn</td>\n",
       "    </tr>\n",
       "    <tr>\n",
       "      <th>2</th>\n",
       "      <td>187.01</td>\n",
       "      <td>Kimberly</td>\n",
       "      <td>Chang</td>\n",
       "    </tr>\n",
       "    <tr>\n",
       "      <th>3</th>\n",
       "      <td>283.17</td>\n",
       "      <td>Mary</td>\n",
       "      <td>Ball</td>\n",
       "    </tr>\n",
       "    <tr>\n",
       "      <th>4</th>\n",
       "      <td>143.87</td>\n",
       "      <td>Benjamin</td>\n",
       "      <td>Craig</td>\n",
       "    </tr>\n",
       "  </tbody>\n",
       "</table>\n",
       "</div>"
      ],
      "text/plain": [
       "    price first_name last_name\n",
       "0  109.04    William     Dixon\n",
       "1  262.52    Kristen      Horn\n",
       "2  187.01   Kimberly     Chang\n",
       "3  283.17       Mary      Ball\n",
       "4  143.87   Benjamin     Craig"
      ]
     },
     "execution_count": 113,
     "metadata": {},
     "output_type": "execute_result"
    }
   ],
   "source": [
    "# Convert price datatype from object to float. Round off to 2 decimal places.\n",
    "combined_csv['price'] = combined_csv[\"price\"].astype(float).round(2)\n",
    "\n",
    "# Check first 5 records.\n",
    "combined_csv.head()"
   ]
  },
  {
   "cell_type": "code",
   "execution_count": 114,
   "id": "a69697bb",
   "metadata": {},
   "outputs": [],
   "source": [
    "# New column - \"above_100\"\n",
    "combined_csv[\"above_100\"] = np.where(combined_csv[\"price\"] > 100.00, True, False)"
   ]
  },
  {
   "cell_type": "code",
   "execution_count": 116,
   "id": "0a361c93",
   "metadata": {},
   "outputs": [
    {
     "data": {
      "text/html": [
       "<div>\n",
       "<style scoped>\n",
       "    .dataframe tbody tr th:only-of-type {\n",
       "        vertical-align: middle;\n",
       "    }\n",
       "\n",
       "    .dataframe tbody tr th {\n",
       "        vertical-align: top;\n",
       "    }\n",
       "\n",
       "    .dataframe thead th {\n",
       "        text-align: right;\n",
       "    }\n",
       "</style>\n",
       "<table border=\"1\" class=\"dataframe\">\n",
       "  <thead>\n",
       "    <tr style=\"text-align: right;\">\n",
       "      <th></th>\n",
       "      <th>price</th>\n",
       "      <th>first_name</th>\n",
       "      <th>last_name</th>\n",
       "      <th>above_100</th>\n",
       "    </tr>\n",
       "  </thead>\n",
       "  <tbody>\n",
       "    <tr>\n",
       "      <th>0</th>\n",
       "      <td>109.04</td>\n",
       "      <td>William</td>\n",
       "      <td>Dixon</td>\n",
       "      <td>True</td>\n",
       "    </tr>\n",
       "    <tr>\n",
       "      <th>1</th>\n",
       "      <td>262.52</td>\n",
       "      <td>Kristen</td>\n",
       "      <td>Horn</td>\n",
       "      <td>True</td>\n",
       "    </tr>\n",
       "    <tr>\n",
       "      <th>2</th>\n",
       "      <td>187.01</td>\n",
       "      <td>Kimberly</td>\n",
       "      <td>Chang</td>\n",
       "      <td>True</td>\n",
       "    </tr>\n",
       "    <tr>\n",
       "      <th>3</th>\n",
       "      <td>283.17</td>\n",
       "      <td>Mary</td>\n",
       "      <td>Ball</td>\n",
       "      <td>True</td>\n",
       "    </tr>\n",
       "    <tr>\n",
       "      <th>4</th>\n",
       "      <td>143.87</td>\n",
       "      <td>Benjamin</td>\n",
       "      <td>Craig</td>\n",
       "      <td>True</td>\n",
       "    </tr>\n",
       "    <tr>\n",
       "      <th>5</th>\n",
       "      <td>61.51</td>\n",
       "      <td>Cathy</td>\n",
       "      <td>Werner</td>\n",
       "      <td>False</td>\n",
       "    </tr>\n",
       "    <tr>\n",
       "      <th>6</th>\n",
       "      <td>48.64</td>\n",
       "      <td>Brandon</td>\n",
       "      <td>Bell</td>\n",
       "      <td>False</td>\n",
       "    </tr>\n",
       "    <tr>\n",
       "      <th>7</th>\n",
       "      <td>12.39</td>\n",
       "      <td>Paul</td>\n",
       "      <td>Farley</td>\n",
       "      <td>False</td>\n",
       "    </tr>\n",
       "    <tr>\n",
       "      <th>8</th>\n",
       "      <td>151.60</td>\n",
       "      <td>Sarah</td>\n",
       "      <td>Mcdaniel</td>\n",
       "      <td>True</td>\n",
       "    </tr>\n",
       "    <tr>\n",
       "      <th>9</th>\n",
       "      <td>75.62</td>\n",
       "      <td>Caroline</td>\n",
       "      <td>Anderson</td>\n",
       "      <td>False</td>\n",
       "    </tr>\n",
       "    <tr>\n",
       "      <th>10</th>\n",
       "      <td>147.03</td>\n",
       "      <td>Carl</td>\n",
       "      <td>Jones</td>\n",
       "      <td>True</td>\n",
       "    </tr>\n",
       "    <tr>\n",
       "      <th>11</th>\n",
       "      <td>244.19</td>\n",
       "      <td>Scott</td>\n",
       "      <td>Lee</td>\n",
       "      <td>True</td>\n",
       "    </tr>\n",
       "    <tr>\n",
       "      <th>12</th>\n",
       "      <td>17.86</td>\n",
       "      <td>Kaylee</td>\n",
       "      <td>Coleman</td>\n",
       "      <td>False</td>\n",
       "    </tr>\n",
       "    <tr>\n",
       "      <th>13</th>\n",
       "      <td>215.54</td>\n",
       "      <td>Charles</td>\n",
       "      <td>Parker</td>\n",
       "      <td>True</td>\n",
       "    </tr>\n",
       "    <tr>\n",
       "      <th>14</th>\n",
       "      <td>38.36</td>\n",
       "      <td>Susan</td>\n",
       "      <td>Hess</td>\n",
       "      <td>False</td>\n",
       "    </tr>\n",
       "  </tbody>\n",
       "</table>\n",
       "</div>"
      ],
      "text/plain": [
       "     price first_name last_name  above_100\n",
       "0   109.04    William     Dixon       True\n",
       "1   262.52    Kristen      Horn       True\n",
       "2   187.01   Kimberly     Chang       True\n",
       "3   283.17       Mary      Ball       True\n",
       "4   143.87   Benjamin     Craig       True\n",
       "5    61.51      Cathy    Werner      False\n",
       "6    48.64    Brandon      Bell      False\n",
       "7    12.39       Paul    Farley      False\n",
       "8   151.60      Sarah  Mcdaniel       True\n",
       "9    75.62   Caroline  Anderson      False\n",
       "10  147.03       Carl     Jones       True\n",
       "11  244.19      Scott       Lee       True\n",
       "12   17.86     Kaylee   Coleman      False\n",
       "13  215.54    Charles    Parker       True\n",
       "14   38.36      Susan      Hess      False"
      ]
     },
     "execution_count": 116,
     "metadata": {},
     "output_type": "execute_result"
    }
   ],
   "source": [
    "# Check first 15 records.\n",
    "combined_csv.head(15)"
   ]
  },
  {
   "cell_type": "code",
   "execution_count": 117,
   "id": "a2a6162e",
   "metadata": {},
   "outputs": [],
   "source": [
    "# Export dataframe into CSV file.\n",
    "combined_csv.to_csv('dataset_result.csv', index=False)"
   ]
  },
  {
   "cell_type": "code",
   "execution_count": null,
   "id": "133dc3f1",
   "metadata": {},
   "outputs": [],
   "source": []
  }
 ],
 "metadata": {
  "kernelspec": {
   "display_name": "Python 3",
   "language": "python",
   "name": "python3"
  },
  "language_info": {
   "codemirror_mode": {
    "name": "ipython",
    "version": 3
   },
   "file_extension": ".py",
   "mimetype": "text/x-python",
   "name": "python",
   "nbconvert_exporter": "python",
   "pygments_lexer": "ipython3",
   "version": "3.8.8"
  }
 },
 "nbformat": 4,
 "nbformat_minor": 5
}
