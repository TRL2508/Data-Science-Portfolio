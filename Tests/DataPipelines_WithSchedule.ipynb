{
 "cells": [
  {
   "cell_type": "code",
   "execution_count": 1,
   "id": "6ec76538",
   "metadata": {},
   "outputs": [
    {
     "name": "stdout",
     "output_type": "stream",
     "text": [
      "Requirement already satisfied: schedule in c:\\users\\asus\\anaconda3\\lib\\site-packages (1.1.0)\n"
     ]
    }
   ],
   "source": [
    "!pip install schedule"
   ]
  },
  {
   "cell_type": "code",
   "execution_count": 2,
   "id": "34a9d1f2",
   "metadata": {},
   "outputs": [],
   "source": [
    "# Import nesscary libraries.\n",
    "import pandas as pd\n",
    "import numpy as np\n",
    "\n",
    "import schedule\n",
    "import time\n",
    "from datetime import datetime"
   ]
  },
  {
   "cell_type": "code",
   "execution_count": null,
   "id": "990b0cb4",
   "metadata": {},
   "outputs": [],
   "source": [
    "def datapipelines():\n",
    "    # Read CSV 1 file, convert into dataframe.\n",
    "    # The URL link to view the csv file in GitHub is \"https://github.com/jaabberwocky/dataeng_test/blob/master/dataset1.csv\".\n",
    "    # The raw dataset link is \"https://raw.githubusercontent.com/jaabberwocky/dataeng_test/master/dataset1.csv\". - Remember to remove \"/blob\".\n",
    "    csv_file1_url = \"https://raw.githubusercontent.com/jaabberwocky/dataeng_test/master/dataset1.csv\"\n",
    "    csv1_df = pd.read_csv(csv_file1_url, sep=',')\n",
    "    csv1_df.head()\n",
    "    \n",
    "    # Read CSV 2 file, convert into dataframe.\n",
    "    # The URL link to view the csv file in GitHub is \"https://github.com/jaabberwocky/dataeng_test/blob/master/dataset2.csv\".\n",
    "    # The raw dataset link is \"https://raw.githubusercontent.com/jaabberwocky/dataeng_test/master/dataset2.csv\". - Remember to remove \"/blob\".\n",
    "    csv_file2_url = \"https://raw.githubusercontent.com/jaabberwocky/dataeng_test/master/dataset2.csv\"\n",
    "    csv2_df = pd.read_csv(csv_file2_url, sep=',')\n",
    "    csv2_df.head()\n",
    "    \n",
    "    # Combine the 2 dataframes into 1 dataframe.\n",
    "    combined_csv = pd.concat([csv1_df, csv2_df])\n",
    "    \n",
    "    # Only 'name' column have missing value. So remove rows which do not have a name.\n",
    "    combined_csv = combined_csv.dropna()\n",
    "    \n",
    "    # Remove the old index (with \"drop=True\"), recount new index values and add into the dataframe.\n",
    "    combined_csv.reset_index(drop=True)\n",
    "    \n",
    "    # Remove all the suffix/titles.\n",
    "    combined_csv['name'] = combined_csv['name'].str.replace('Mr. |Mrs. |Ms. |Miss |Dr. | PhD| MD| DDS| DVM| II| III| IV| Jr.', \"\", regex=True)\n",
    "    \n",
    "    # Spilt 'name' column into 'first_name' and 'last_name' new columns.\n",
    "    firstname_lastname = combined_csv['name'].str.split(' ', 1, expand=True)\n",
    "    combined_csv['first_name'] = firstname_lastname[0]\n",
    "    combined_csv['last_name'] = firstname_lastname[1]\n",
    "    \n",
    "    # Drop the 'name' column.\n",
    "    combined_csv.drop(columns = [\"name\"], inplace = True)\n",
    "    \n",
    "    # Convert price datatype from object to float. Round off to 2 decimal places.\n",
    "    combined_csv['price'] = combined_csv[\"price\"].astype(float).round(2)\n",
    "\n",
    "    # New column - \"above_100\"\n",
    "    combined_csv[\"above_100\"] = np.where(combined_csv[\"price\"] > 100.00, True, False)\n",
    "    \n",
    "    # Get current datetime.\n",
    "    now = datetime.now()\n",
    "    dt = now.strftime(\"%d%m%Y-%H%M%S\")\n",
    "    \n",
    "    # New filename.\n",
    "    filename_type = 'dataset-result_' + dt + '.csv'\n",
    "    \n",
    "    # Export dataframe into CSV file.\n",
    "    combined_csv.to_csv(filename_type, index=False)\n",
    "    \n",
    "# Schedule to run everyday, at 1am.\n",
    "schedule.every().day.at(\"01:00\").do(datapipelines)\n",
    "\n",
    "# The data file will be available at 1am everyday. It will run at the next second (01:00:01) --> sleep(1) will delay 1 seccond.\n",
    "while True:\n",
    "    schedule.run_pending()\n",
    "    time.sleep(1)\n"
   ]
  }
 ],
 "metadata": {
  "kernelspec": {
   "display_name": "Python 3",
   "language": "python",
   "name": "python3"
  },
  "language_info": {
   "codemirror_mode": {
    "name": "ipython",
    "version": 3
   },
   "file_extension": ".py",
   "mimetype": "text/x-python",
   "name": "python",
   "nbconvert_exporter": "python",
   "pygments_lexer": "ipython3",
   "version": "3.8.8"
  }
 },
 "nbformat": 4,
 "nbformat_minor": 5
}
