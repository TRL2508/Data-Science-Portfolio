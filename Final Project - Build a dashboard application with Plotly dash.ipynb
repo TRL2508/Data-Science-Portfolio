{
 "cells": [
  {
   "cell_type": "markdown",
   "metadata": {
    "collapsed": true
   },
   "source": [
    "<center>\n",
    "    <img src=\"https://gitlab.com/ibm/skills-network/courses/placeholder101/-/raw/master/labs/module%201/images/IDSNlogo.png\" width=\"300\" alt=\"cognitiveclass.ai logo\"  />\n",
    "</center>"
   ]
  },
  {
   "cell_type": "markdown",
   "metadata": {},
   "source": [
    "# **Build a Dashboard Application with Plotly Dash**"
   ]
  },
  {
   "cell_type": "markdown",
   "metadata": {},
   "source": [
    "In this lab, you will be building a Plotly Dash application for users to perform interactive visual analytics on SpaceX launch data in real-time.\n",
    "\n",
    "This dashboard application contains input components such as a dropdown list and a range slider to interact with a pie chart and a scatter point chart. You will be guided to build this dashboard application via the following tasks:\n",
    "\n",
    "* TASK 1: Add a Launch Site Drop-down Input Component\n",
    "* TASK 2: Add a callback function to render <font color='red'>success-pie-chart</font> based on selected site dropdown\n",
    "* TASK 3: Add a Range Slider to Select Payload\n",
    "* TASK 4: Add a callback function to render the <font color='red'>success-payload-scatter-chart</font> scatter plot\n",
    "\n",
    "***Note: Please take screenshots of the Dashboard and save them. Further upload your notebook to github.***\n",
    "\n",
    "***The github url and the screenshots are later required in the presentation slides.***\n",
    "\n",
    "Your completed dashboard application should look like the following screenshot:"
   ]
  },
  {
   "cell_type": "markdown",
   "metadata": {},
   "source": [
    "![](https://cf-courses-data.s3.us.cloud-object-storage.appdomain.cloud/IBM-DS0321EN-SkillsNetwork/labs/module_3/images/dash_completed.PNG)"
   ]
  },
  {
   "cell_type": "markdown",
   "metadata": {},
   "source": [
    "After visual analysis using the dashboard, you should be able to obtain some insights to answer the following five questions:\n",
    "\n",
    "1. Which site has the largest successful launches?\n",
    "2. Which site has the highest launch success rate?\n",
    "3. Which payload range(s) has the highest launch success rate?\n",
    "4. Which payload range(s) has the lowest launch success rate?\n",
    "5. Which F9 Booster version (<font color='red'>v1.0</font>, <font color='red'>v1.1</font>, <font color='red'>FT</font>, <font color='red'>B4</font>, <font color='red'>B5</font>, etc.) has the highest launch success rate?\n",
    "\n",
    "**Estimated time needed:** 90 minutes"
   ]
  },
  {
   "cell_type": "markdown",
   "metadata": {},
   "source": [
    "# Important Notice about this lab environment\n",
    "Please be aware that sessions for this lab environment are not persisted. When you launch the Cloud IDE, you are presented with a 'dedicated computer on the cloud' exclusively for you. This is available to you as long as you are actively working on the labs. Once you close your session or it is timed out due to inactivity, you are logged off, and this <font color='red'>dedicated computer on the cloud</font> is deleted along with any files you may have created, downloaded or installed.\n",
    "\n",
    "The next time you launch this lab, a new environment is created for you. If you finish only part of the lab and return later, you may have to start from the beginning. So, it is a good idea to plan your time accordingly and finish your labs in a single session.\n",
    "\n",
    "# Setup development environment\n",
    "## Install required Python packages\n",
    "* Open a new terminal, by clicking on the menu bar and selecting **Terminal**->**New Terminal**, as in the image below.\n",
    "\n",
    "![](https://cf-courses-data.s3.us.cloud-object-storage.appdomain.cloud/IBMDeveloperSkillsNetwork-DV0101EN-SkillsNetwork/labs/Module%204/images/lab2_new_terminal.png)\n"
   ]
  },
  {
   "cell_type": "markdown",
   "metadata": {},
   "source": [
    "* Now, you have script and terminal ready to start the lab.\n",
    "\n",
    "![](https://cf-courses-data.s3.us.cloud-object-storage.appdomain.cloud/IBMDeveloperSkillsNetwork-DV0101EN-SkillsNetwork/labs/Module%204/images/lab2_terminal.png)"
   ]
  },
  {
   "cell_type": "markdown",
   "metadata": {},
   "source": [
    "* Install python packages required to run the application.\n",
    "\n",
    "Copy and paste the below command to the terminal."
   ]
  },
  {
   "cell_type": "code",
   "execution_count": 1,
   "metadata": {},
   "outputs": [
    {
     "name": "stdout",
     "output_type": "stream",
     "text": [
      "Requirement already satisfied: pandas in c:\\users\\asus\\anaconda3\\lib\\site-packages (1.1.5)\n",
      "Requirement already satisfied: dash in c:\\users\\asus\\anaconda3\\lib\\site-packages (2.0.0)\n",
      "Requirement already satisfied: flask-compress in c:\\users\\asus\\anaconda3\\lib\\site-packages (from dash) (1.10.1)\n",
      "Requirement already satisfied: dash-html-components==2.0.0 in c:\\users\\asus\\anaconda3\\lib\\site-packages (from dash) (2.0.0)\n",
      "Requirement already satisfied: dash-table==5.0.0 in c:\\users\\asus\\anaconda3\\lib\\site-packages (from dash) (5.0.0)\n",
      "Requirement already satisfied: plotly>=5.0.0 in c:\\users\\asus\\anaconda3\\lib\\site-packages (from dash) (5.5.0)\n",
      "Requirement already satisfied: Flask>=1.0.4 in c:\\users\\asus\\anaconda3\\lib\\site-packages (from dash) (1.1.2)\n",
      "Requirement already satisfied: dash-core-components==2.0.0 in c:\\users\\asus\\anaconda3\\lib\\site-packages (from dash) (2.0.0)\n",
      "Requirement already satisfied: Jinja2>=2.10.1 in c:\\users\\asus\\anaconda3\\lib\\site-packages (from Flask>=1.0.4->dash) (2.11.3)\n",
      "Requirement already satisfied: click>=5.1 in c:\\users\\asus\\anaconda3\\lib\\site-packages (from Flask>=1.0.4->dash) (7.1.2)\n",
      "Requirement already satisfied: Werkzeug>=0.15 in c:\\users\\asus\\anaconda3\\lib\\site-packages (from Flask>=1.0.4->dash) (1.0.1)\n",
      "Requirement already satisfied: itsdangerous>=0.24 in c:\\users\\asus\\anaconda3\\lib\\site-packages (from Flask>=1.0.4->dash) (1.1.0)\n",
      "Requirement already satisfied: MarkupSafe>=0.23 in c:\\users\\asus\\anaconda3\\lib\\site-packages (from Jinja2>=2.10.1->Flask>=1.0.4->dash) (1.1.1)\n",
      "Requirement already satisfied: six in c:\\users\\asus\\anaconda3\\lib\\site-packages (from plotly>=5.0.0->dash) (1.15.0)\n",
      "Requirement already satisfied: tenacity>=6.2.0 in c:\\users\\asus\\anaconda3\\lib\\site-packages (from plotly>=5.0.0->dash) (8.0.1)\n",
      "Requirement already satisfied: pytz>=2017.2 in c:\\users\\asus\\anaconda3\\lib\\site-packages (from pandas) (2021.1)\n",
      "Requirement already satisfied: numpy>=1.15.4 in c:\\users\\asus\\anaconda3\\lib\\site-packages (from pandas) (1.22.3)\n",
      "Requirement already satisfied: python-dateutil>=2.7.3 in c:\\users\\asus\\anaconda3\\lib\\site-packages (from pandas) (2.8.1)\n",
      "Requirement already satisfied: brotli in c:\\users\\asus\\anaconda3\\lib\\site-packages (from flask-compress->dash) (1.0.9)\n"
     ]
    }
   ],
   "source": [
    "!pip3 install pandas dash"
   ]
  },
  {
   "cell_type": "markdown",
   "metadata": {},
   "source": [
    "![](https://cf-courses-data.s3.us.cloud-object-storage.appdomain.cloud/IBMDeveloperSkillsNetwork-DV0101EN-SkillsNetwork/labs/Module%204/images/install.png)"
   ]
  },
  {
   "cell_type": "markdown",
   "metadata": {},
   "source": [
    "## Download a skeleton dashboard application and dataset\n",
    "First, let's get the SpaceX Launch dataset for this lab:\n",
    "\n",
    "* Run the following <font color='red'>wget</font> command line in the terminal to download dataset as <font color='red'>spacex_launch_dash.csv</font>"
   ]
  },
  {
   "cell_type": "code",
   "execution_count": 2,
   "metadata": {},
   "outputs": [
    {
     "name": "stderr",
     "output_type": "stream",
     "text": [
      "--2022-04-21 00:38:58--  https://cf-courses-data.s3.us.cloud-object-storage.appdomain.cloud/IBM-DS0321EN-SkillsNetwork/datasets/spacex_launch_dash.csv\n",
      "Resolving cf-courses-data.s3.us.cloud-object-storage.appdomain.cloud (cf-courses-data.s3.us.cloud-object-storage.appdomain.cloud)... 169.45.118.108\n",
      "Connecting to cf-courses-data.s3.us.cloud-object-storage.appdomain.cloud (cf-courses-data.s3.us.cloud-object-storage.appdomain.cloud)|169.45.118.108|:443... connected.\n",
      "HTTP request sent, awaiting response... 200 OK\n",
      "Length: 2476 (2.4K) [text/csv]\n",
      "Saving to: 'spacex_launch_dash.csv.3'\n",
      "\n",
      "     0K ..                                                    100%  446M=0s\n",
      "\n",
      "2022-04-21 00:38:59 (446 MB/s) - 'spacex_launch_dash.csv.3' saved [2476/2476]\n",
      "\n"
     ]
    }
   ],
   "source": [
    "!wget \"https://cf-courses-data.s3.us.cloud-object-storage.appdomain.cloud/IBM-DS0321EN-SkillsNetwork/datasets/spacex_launch_dash.csv\""
   ]
  },
  {
   "cell_type": "markdown",
   "metadata": {},
   "source": [
    "* Download a skeleton Dash app to be completed in this lab:"
   ]
  },
  {
   "cell_type": "code",
   "execution_count": 3,
   "metadata": {},
   "outputs": [
    {
     "name": "stderr",
     "output_type": "stream",
     "text": [
      "--2022-04-21 00:39:01--  https://cf-courses-data.s3.us.cloud-object-storage.appdomain.cloud/IBM-DS0321EN-SkillsNetwork/labs/module_3/spacex_dash_app.py\n",
      "Resolving cf-courses-data.s3.us.cloud-object-storage.appdomain.cloud (cf-courses-data.s3.us.cloud-object-storage.appdomain.cloud)... 169.45.118.108\n",
      "Connecting to cf-courses-data.s3.us.cloud-object-storage.appdomain.cloud (cf-courses-data.s3.us.cloud-object-storage.appdomain.cloud)|169.45.118.108|:443... connected.\n",
      "HTTP request sent, awaiting response... 200 OK\n",
      "Length: 2110 (2.1K) [text/x-python]\n",
      "Saving to: 'spacex_dash_app.py.3'\n",
      "\n",
      "     0K ..                                                    100%  387M=0s\n",
      "\n",
      "2022-04-21 00:39:02 (387 MB/s) - 'spacex_dash_app.py.3' saved [2110/2110]\n",
      "\n"
     ]
    }
   ],
   "source": [
    "!wget \"https://cf-courses-data.s3.us.cloud-object-storage.appdomain.cloud/IBM-DS0321EN-SkillsNetwork/labs/module_3/spacex_dash_app.py\""
   ]
  },
  {
   "cell_type": "markdown",
   "metadata": {},
   "source": [
    "* Test the skeleton app by running the following command in the terminal:"
   ]
  },
  {
   "cell_type": "code",
   "execution_count": null,
   "metadata": {},
   "outputs": [],
   "source": [
    "# python3 spacex_dash_app.py\n",
    "# https://cf-courses-data.s3.us.cloud-object-storage.appdomain.cloud/IBM-DS0321EN-SkillsNetwork/labs/module_3/spacex_dash_app.py"
   ]
  },
  {
   "cell_type": "code",
   "execution_count": null,
   "metadata": {},
   "outputs": [],
   "source": [
    "# Import required libraries\n",
    "import pandas as pd\n",
    "import dash\n",
    "import dash_html_components as html\n",
    "import dash_core_components as dcc\n",
    "from dash.dependencies import Input, Output\n",
    "import plotly.express as px\n",
    "\n",
    "# Read the airline data into pandas dataframe\n",
    "spacex_df = pd.read_csv(\"spacex_launch_dash.csv\")\n",
    "max_payload = spacex_df['Payload Mass (kg)'].max()\n",
    "min_payload = spacex_df['Payload Mass (kg)'].min()\n",
    "\n",
    "# Create a dash application\n",
    "app = dash.Dash(__name__)\n",
    "\n",
    "# Create an app layout\n",
    "app.layout = html.Div(children=[html.H1('SpaceX Launch Records Dashboard',\n",
    "                                        style={'textAlign': 'center', 'color': '#503D36',\n",
    "                                               'font-size': 40}),\n",
    "                                # TASK 1: Add a dropdown list to enable Launch Site selection\n",
    "                                # The default select value is for ALL sites\n",
    "                                # dcc.Dropdown(id='site-dropdown',...)\n",
    "                                html.Br(),\n",
    "\n",
    "                                # TASK 2: Add a pie chart to show the total successful launches count for all sites\n",
    "                                # If a specific launch site was selected, show the Success vs. Failed counts for the site\n",
    "                                html.Div(dcc.Graph(id='success-pie-chart')),\n",
    "                                html.Br(),\n",
    "\n",
    "                                html.P(\"Payload range (Kg):\"),\n",
    "                                # TASK 3: Add a slider to select payload range\n",
    "                                #dcc.RangeSlider(id='payload-slider',...)\n",
    "\n",
    "                                # TASK 4: Add a scatter chart to show the correlation between payload and launch success\n",
    "                                html.Div(dcc.Graph(id='success-payload-scatter-chart')),\n",
    "                                ])\n",
    "\n",
    "# TASK 2:\n",
    "# Add a callback function for `site-dropdown` as input, `success-pie-chart` as output\n",
    "\n",
    "# TASK 4:\n",
    "# Add a callback function for `site-dropdown` and `payload-slider` as inputs, `success-payload-scatter-chart` as output\n",
    "\n",
    "\n",
    "# Run the app\n",
    "if __name__ == '__main__':\n",
    "    app.run_server()"
   ]
  },
  {
   "cell_type": "markdown",
   "metadata": {},
   "source": [
    "* Observe the port number (8050) shown in the terminal.\n",
    "\n",
    "![](https://cf-courses-data.s3.us.cloud-object-storage.appdomain.cloud/IBMDeveloperSkillsNetwork-DV0101EN-SkillsNetwork/labs/Module%204/images/port.png)\n",
    "\n",
    "* Click on the <font color='red'>Launch Application</font> option from the menu bar.\n",
    "\n",
    "![](https://cf-courses-data.s3.us.cloud-object-storage.appdomain.cloud/IBMDeveloperSkillsNetwork-DV0101EN-SkillsNetwork/labs/Module%204/images/launch.png)\n",
    "\n",
    "* Provide the port number 8050 and click <font color='red'>OK</font>.\n",
    "\n",
    "![](https://cf-courses-data.s3.us.cloud-object-storage.appdomain.cloud/IBMDeveloperSkillsNetwork-DV0101EN-SkillsNetwork/labs/Module%204/images/l_port.png)\n",
    "\n",
    "* You should see a nearly blank web page indicating a successfully running dash app.\n",
    "\n",
    "Next, let's fill the skeleton app with required input/output components and callback functions.\n",
    "\n",
    "If you need to refresh your memory about Plotly Dash components and callback functions, you may refer to the lab you have learned before:"
   ]
  },
  {
   "cell_type": "code",
   "execution_count": null,
   "metadata": {},
   "outputs": [],
   "source": [
    "# python3 Plotly Dash Lab - 4.7_Dash_Interactivity.py\n",
    "# https://cf-courses-data.s3.us.cloud-object-storage.appdomain.cloud/IBMDeveloperSkillsNetwork-DV0101EN-SkillsNetwork/labs/Module%204/4.7_Dash_Interactivity.py"
   ]
  },
  {
   "cell_type": "code",
   "execution_count": null,
   "metadata": {},
   "outputs": [],
   "source": [
    "# Import required libraries\n",
    "import pandas as pd\n",
    "import plotly.graph_objects as go\n",
    "import dash\n",
    "import dash_html_components as html\n",
    "import dash_core_components as dcc\n",
    "from dash.dependencies import Input, Output\n",
    "\n",
    "# Read the airline data into pandas dataframe\n",
    "airline_data =  pd.read_csv('https://cf-courses-data.s3.us.cloud-object-storage.appdomain.cloud/IBMDeveloperSkillsNetwork-DV0101EN-SkillsNetwork/Data%20Files/airline_data.csv', \n",
    "                            encoding = \"ISO-8859-1\",\n",
    "                            dtype={'Div1Airport': str, 'Div1TailNum': str, \n",
    "                                   'Div2Airport': str, 'Div2TailNum': str})\n",
    "# Create a dash application\n",
    "app = dash.Dash(__name__)\n",
    "                               \n",
    "app.layout = html.Div(children=[ html.H1('Airline Performance Dashboard', \n",
    "                                style={'textAlign': 'center', 'color': '#503D36',\n",
    "                                'font-size': 40}),\n",
    "                                html.Div([\"Input Year: \", dcc.Input(id='input-year', value='2010', \n",
    "                                type='number', style={'height':'50px', 'font-size': 35}),], \n",
    "                                style={'font-size': 40}),\n",
    "                                html.Br(),\n",
    "                                html.Br(),\n",
    "                                html.Div(dcc.Graph(id='line-plot')),\n",
    "                                ])\n",
    "\n",
    "# add callback decorator\n",
    "@app.callback( Output(component_id='line-plot', component_property='figure'),\n",
    "               Input(component_id='input-year', component_property='value'))\n",
    "\n",
    "# Add computation to callback function and return graph\n",
    "def get_graph(entered_year):\n",
    "    # Select 2019 data\n",
    "    df =  airline_data[airline_data['Year']==int(entered_year)]\n",
    "    \n",
    "    # Group the data by Month and compute average over arrival delay time.\n",
    "    line_data = df.groupby('Month')['ArrDelay'].mean().reset_index()\n",
    "\n",
    "    fig = go.Figure(data=go.Scatter(x=line_data['Month'], y=line_data['ArrDelay'], mode='lines', marker=dict(color='green')))\n",
    "    fig.update_layout(title='Month vs Average Flight Delay Time', xaxis_title='Month', yaxis_title='ArrDelay')\n",
    "    return fig\n",
    "\n",
    "# Run the app\n",
    "if __name__ == '__main__':\n",
    "    app.run_server()"
   ]
  },
  {
   "cell_type": "markdown",
   "metadata": {},
   "source": [
    "## TASK 1: Add a Launch Site Drop-down Input Component\n",
    "We have four different launch sites and we would like to first see which one has the largest success count. Then, we would like to select one specific site and check its detailed success rate (class=0 vs. class=1).\n",
    "\n",
    "As such, we will need a dropdown menu to let us select different launch sites.\n",
    "\n",
    "* Find and complete a commented <font color='red'>dcc.Dropdown(id='site-dropdown',...)</font> input with following attributes:\n",
    "  * <font color='red'>id</font> attribute with value <font color='red'>site-dropdown</font>\n",
    "  * <font color='red'>options</font> attribute is a list of dict-like option objects (with <font color='red'>label</font> and <font color='red'>value</font> attributes). You can set the <font color='red'>label</font> and <font color='red'>value</font> all to be the launch site names in the <font color='red'>spacex_df</font> and you need to include the default <font color='red'>All</font> option. e.g.,\n",
    "  \n",
    "  options=[{'label': 'All Sites', 'value': 'ALL'},{'label': 'site1', 'value': 'site1'}, ...]\n",
    "\n",
    "\n",
    "  * <font color='red'>value</font> attribute with default dropdown value to be <font color='red'>ALL</font> meaning all sites are selected\n",
    "  * <font color='red'>placeholder</font> attribute to show a text description about this input area, such as <font color='red'>Select a Launch Site here</font>\n",
    "  * <font color='red'>searchable</font> attribute to be True so we can enter keywords to search launch sites\n",
    "\n",
    "Here is an example of <font color='red'>dcc.Dropdown</font>:"
   ]
  },
  {
   "cell_type": "code",
   "execution_count": null,
   "metadata": {},
   "outputs": [],
   "source": [
    "dcc.Dropdown(id='id',\n",
    "                options=[\n",
    "                    {'label': 'All Sites', 'value': 'ALL'},\n",
    "                    {'label': 'site1', 'value': 'site1'},\n",
    "                ],\n",
    "                value='ALL',\n",
    "                placeholder=\"place holder here\",\n",
    "                searchable=True\n",
    "                ),"
   ]
  },
  {
   "cell_type": "markdown",
   "metadata": {},
   "source": [
    "If you need more help about <font color='red'>Dropdown()</font>, refer to the <font color='red'>Plotly Dash Reference</font> section towards the end of this lab.\n",
    "\n",
    "Your completed dropdown menu should look like the following screenshot:\n",
    "![](https://cf-courses-data.s3.us.cloud-object-storage.appdomain.cloud/IBM-DS0321EN-SkillsNetwork/labs/module_3/images/site-dropdown.PNG)"
   ]
  },
  {
   "cell_type": "code",
   "execution_count": null,
   "metadata": {},
   "outputs": [],
   "source": [
    "# Type your code here.\n",
    "\n",
    "dcc.Dropdown(id='site-dropdown',\n",
    "                options=[\n",
    "                    {'label': 'All Sites', 'value': 'ALL'},\n",
    "                    {'label': 'CCAFS LC-40', 'value': 'CCAFS LC-40'},\n",
    "                    {'label': 'VAFB SLC-4E', 'value': 'VAFB SLC-4E'},\n",
    "                    {'label': 'KSC LC-39A', 'value': 'KSC LC-39A'},\n",
    "                    {'label': 'CCAFS SLC-40', 'value': 'CCAFS SLC-40'},\n",
    "                ],\n",
    "                value='ALL',\n",
    "                placeholder=\"Select a Launch Site here\",\n",
    "                searchable=True\n",
    "                ),"
   ]
  },
  {
   "cell_type": "markdown",
   "metadata": {},
   "source": [
    "## TASK 2: Add a callback function to render <font color='red'>success-pie-chart</font> based on selected site dropdown\n",
    "\n",
    "The general idea of this callback function is to get the selected launch site from <font color='red'>site-dropdown</font> and render a pie chart visualizing launch success counts.\n",
    "\n",
    "Dash callback function is a type of Python function which will be automatically called by Dash whenever receiving an input component updates, such as a click or dropdown selecting event.\n",
    "\n",
    "If you need to refresh your memory about Plotly Dash callback functions, you may refer to the lab you have learned before:"
   ]
  },
  {
   "cell_type": "code",
   "execution_count": null,
   "metadata": {},
   "outputs": [],
   "source": [
    "# python3 Plotly Dash Lab - 4.7_Dash_Interactivity.py\n",
    "# https://cf-courses-data.s3.us.cloud-object-storage.appdomain.cloud/IBMDeveloperSkillsNetwork-DV0101EN-SkillsNetwork/labs/Module%204/4.7_Dash_Interactivity.py"
   ]
  },
  {
   "cell_type": "code",
   "execution_count": null,
   "metadata": {},
   "outputs": [],
   "source": [
    "# Import required libraries\n",
    "import pandas as pd\n",
    "import plotly.graph_objects as go\n",
    "import dash\n",
    "import dash_html_components as html\n",
    "import dash_core_components as dcc\n",
    "from dash.dependencies import Input, Output\n",
    "\n",
    "# Read the airline data into pandas dataframe\n",
    "airline_data =  pd.read_csv('https://cf-courses-data.s3.us.cloud-object-storage.appdomain.cloud/IBMDeveloperSkillsNetwork-DV0101EN-SkillsNetwork/Data%20Files/airline_data.csv', \n",
    "                            encoding = \"ISO-8859-1\",\n",
    "                            dtype={'Div1Airport': str, 'Div1TailNum': str, \n",
    "                                   'Div2Airport': str, 'Div2TailNum': str})\n",
    "# Create a dash application\n",
    "app = dash.Dash(__name__)\n",
    "                               \n",
    "app.layout = html.Div(children=[ html.H1('Airline Performance Dashboard', \n",
    "                                style={'textAlign': 'center', 'color': '#503D36',\n",
    "                                'font-size': 40}),\n",
    "                                html.Div([\"Input Year: \", dcc.Input(id='input-year', value='2010', \n",
    "                                type='number', style={'height':'50px', 'font-size': 35}),], \n",
    "                                style={'font-size': 40}),\n",
    "                                html.Br(),\n",
    "                                html.Br(),\n",
    "                                html.Div(dcc.Graph(id='line-plot')),\n",
    "                                ])\n",
    "\n",
    "# add callback decorator\n",
    "@app.callback( Output(component_id='line-plot', component_property='figure'),\n",
    "               Input(component_id='input-year', component_property='value'))\n",
    "\n",
    "# Add computation to callback function and return graph\n",
    "def get_graph(entered_year):\n",
    "    # Select 2019 data\n",
    "    df =  airline_data[airline_data['Year']==int(entered_year)]\n",
    "    \n",
    "    # Group the data by Month and compute average over arrival delay time.\n",
    "    line_data = df.groupby('Month')['ArrDelay'].mean().reset_index()\n",
    "\n",
    "    fig = go.Figure(data=go.Scatter(x=line_data['Month'], y=line_data['ArrDelay'], mode='lines', marker=dict(color='green')))\n",
    "    fig.update_layout(title='Month vs Average Flight Delay Time', xaxis_title='Month', yaxis_title='ArrDelay')\n",
    "    return fig\n",
    "\n",
    "# Run the app\n",
    "if __name__ == '__main__':\n",
    "    app.run_server()"
   ]
  },
  {
   "cell_type": "markdown",
   "metadata": {},
   "source": [
    "Let's add a callback function in <font color='red'>spacex_dash_app.py</font> including the following application logic:\n",
    "\n",
    "* Input is set to be the <font color='red'>site-dropdown dropdown</font>, i.e., <font color='red'>Input(component_id='site-dropdown', component_property='value')</font>\n",
    "* Output to be the graph with id <font color='red'>success-pie-chart</font>, i.e., <font color='red'>Output(component_id='success-pie-chart', component_property='figure')</font>\n",
    "* A <font color='red'>If-Else</font> statement to check if ALL sites were selected or just a specific launch site was selected\n",
    "  * If ALL sites are selected, we will use all rows in the dataframe <font color='red'>spacex_df</font> to render and return a pie chart graph to show the total success launches (i.e., the total count of <font color='red'>class</font> column)\n",
    "  * If a specific launch site is selected, you need to filter the dataframe <font color='red'>spacex_df</font> first in order to include the only data for the selected site. Then, render and return a pie chart graph to show the success (<font color='red'>class=1</font>) count and failed (<font color='red'>class=0</font>) count for the selected site.\n",
    "\n",
    "Here is an example of a callback function:"
   ]
  },
  {
   "cell_type": "code",
   "execution_count": null,
   "metadata": {},
   "outputs": [],
   "source": [
    "# Function decorator to specify function input and output\n",
    "@app.callback(Output(component_id='success-pie-chart', component_property='figure'),\n",
    "              Input(component_id='site-dropdown', component_property='value'))\n",
    "def get_pie_chart(entered_site):\n",
    "    filtered_df = spacex_df\n",
    "    if entered_site == 'ALL':\n",
    "        fig = px.pie(data, values='class', \n",
    "        names='pie chart names', \n",
    "        title='title')\n",
    "        return fig\n",
    "    else:\n",
    "        # return the outcomes piechart for a selected site"
   ]
  },
  {
   "cell_type": "markdown",
   "metadata": {},
   "source": [
    "The rendered pie chart should look like the following screenshots:\n",
    "\n",
    "* Pie chart for all sites are selected\n",
    "\n",
    "![](https://cf-courses-data.s3.us.cloud-object-storage.appdomain.cloud/IBM-DS0321EN-SkillsNetwork/labs/module_3/images/pie-chart-all.PNG)\n",
    "\n",
    "* Pie chart for is selected\n",
    "\n",
    "![](https://cf-courses-data.s3.us.cloud-object-storage.appdomain.cloud/IBM-DS0321EN-SkillsNetwork/labs/module_3/images/pie-chart-one.PNG)\n",
    "\n",
    "If you need more reference about dash callbacks and plotly pie charts, refer to the Plotly Dash Reference section towards the end of this lab."
   ]
  },
  {
   "cell_type": "code",
   "execution_count": null,
   "metadata": {},
   "outputs": [],
   "source": [
    "# Type your code here.\n",
    "\n",
    "# Function decorator to specify function input and output\n",
    "@app.callback(Output(component_id='success-pie-chart', component_property='figure'),\n",
    "              Input(component_id='site-dropdown', component_property='value'))\n",
    "def get_pie_chart(entered_site):\n",
    "    filtered_df = spacex_df\n",
    "    if entered_site == 'ALL':\n",
    "        fig = px.pie(filtered_df, values='class', \n",
    "        names='Launch Site', \n",
    "        title='Total Success Launches By Site')\n",
    "        return fig\n",
    "    else:\n",
    "        # return the outcomes piechart for a selected site\n",
    "        filtered_df = spacex_df[spacex_df['Launch Site'] == entered_site]\n",
    "        filtered_df = filtered_df.groupby(['Launch Site','class']).size().reset_index(name='class count')\n",
    "        fig = px.pie(filtered_df, values='class count', \n",
    "        names='class', \n",
    "        title=f'Total Success Launches for site {entered_site}')\n",
    "        return fig"
   ]
  },
  {
   "cell_type": "markdown",
   "metadata": {},
   "source": [
    "## TASK 3: Add a Range Slider to Select Payload\n",
    "Next, we want to find if variable payload is correlated to mission outcome. From a dashboard point of view, we want to be able to easily select different payload range and see if we can identify some visual patterns.\n",
    "\n",
    "Find and complete a commented <font color='red'>dcc.RangeSlider(id='payload-slider',...)</font> input with the following attribute:\n",
    "\n",
    "* <font color='red'>id</font> to be <font color='red'>payload-slider</font>\n",
    "* <font color='red'>min</font> indicating the slider starting point, we set its value to be 0 (Kg)\n",
    "* <font color='red'>max</font> indicating the slider ending point to, we set its value to be 10000 (Kg)\n",
    "* <font color='red'>step</font> indicating the slider interval on the slider, we set its value to be 1000 (Kg)\n",
    "* <font color='red'>value</font> indicating the current selected range, we could set it to be <font color='red'>min_payload</font> and <font color='red'>max_payload</font>\n",
    "\n",
    "    Here is an example of <font color='red'>RangeSlider</font>:"
   ]
  },
  {
   "cell_type": "code",
   "execution_count": null,
   "metadata": {},
   "outputs": [],
   "source": [
    "dcc.RangeSlider(id='id',\n",
    "                min=0, max=10000, step=1000,\n",
    "                marks={0: '0',\n",
    "                       100: '100'},\n",
    "                value=[min_value, max_value])"
   ]
  },
  {
   "cell_type": "markdown",
   "metadata": {},
   "source": [
    "You completed payload range slider should be similar the following screenshot:\n",
    "\n",
    "![](https://cf-courses-data.s3.us.cloud-object-storage.appdomain.cloud/IBM-DS0321EN-SkillsNetwork/labs/module_3/images/range-slider.PNG)\n",
    "\n",
    "If you need more reference about range slider, refer to the <font color='red'>Plotly Dash Reference</font> towards the end of this lab."
   ]
  },
  {
   "cell_type": "code",
   "execution_count": null,
   "metadata": {},
   "outputs": [],
   "source": [
    "# Type your code here.\n",
    "\n",
    "dcc.RangeSlider(id='payload-slider',\n",
    "                min=0, max=10000, step=1000,\n",
    "                marks={0: '0',\n",
    "                       100: '100'},\n",
    "                value=[min_payload, max_payload]),"
   ]
  },
  {
   "cell_type": "markdown",
   "metadata": {},
   "source": [
    "## TASK 4: Add a callback function to render the <font color='red'>success-payload-scatter-chart</font> scatter plot\n",
    "\n",
    "Next, we want to plot a scatter plot with the x axis to be the payload and the y axis to be the launch outcome (i.e., <font color='red'>class</font> column). As such, we can visually observe how payload may be correlated with mission outcomes for selected site(s).\n",
    "\n",
    "In addition, we want to color-label the Booster version on each scatter point so that we may observe mission outcomes with different boosters.\n",
    "\n",
    "Now, let's add a call function including the following application logic:\n",
    "\n",
    "* Input to be <font color='red'>[Input(component_id='site-dropdown', component_property='value'), Input(component_id=\"payload-slider\", component_property=\"value\")]</font> Note that we have two input components, one to receive selected launch site and another to receive selected payload range\n",
    "* Output to be <font color='red'>Output(component_id='success-payload-scatter-chart', component_property='figure')</font>\n",
    "* A <font color='red'>If-Else</font> statement to check if ALL sites were selected or just a specific launch site was selected\n",
    "  * If ALL sites are selected, render a scatter plot to display all values for variable <font color='red'>Payload Mass (kg)</font> and <font color='red'>variable class</font>.\n",
    "  In addition, the point color needs to be set to the booster version i.e., <font color='red'>color=\"Booster Version Category\"</font>\n",
    "  * If a specific launch site is selected, you need to filter the <font color='red'>spacex_df</font> first, and render a scatter chart to show values <font color='red'>Payload Mass (kg)</font> and <font color='red'>class</font> for the selected site, and color-label the point using <font color='red'>Boosster Version Category</font> likewise.\n",
    "\n",
    "You rendered scatter point should look like the following screenshot:\n",
    "\n",
    "![](https://cf-courses-data.s3.us.cloud-object-storage.appdomain.cloud/IBM-DS0321EN-SkillsNetwork/labs/module_3/images/scatter-point.PNG)\n",
    "\n",
    "If you need more reference about dash callbacks and plotly scatter plots, refer to the Plotly Dash Reference towards the end of this lab."
   ]
  },
  {
   "cell_type": "code",
   "execution_count": null,
   "metadata": {},
   "outputs": [],
   "source": [
    "# Type your code here.\n",
    "\n",
    "@app.callback(Output(component_id='success-payload-scatter-chart', component_property='figure'),\n",
    "              Input(component_id='site-dropdown', component_property='value'), \n",
    "              Input(component_id=\"payload-slider\", component_property=\"value\"))\n",
    "def get_scatter_chart(entered_site, payload):\n",
    "    filtered_df = spacex_df[spacex_df['Payload Mass (kg)'].between(payload[0], payload[1])]\n",
    "    if entered_site == 'ALL':\n",
    "        fig = px.scatter(filtered_df, \n",
    "                         x='Payload Mass (kg)', \n",
    "                         y='class', \n",
    "                         color=\"Booster Version Category\",\n",
    "                         title='Correlation between Payload and Success for all Sites')\n",
    "        return fig\n",
    "    else:\n",
    "        # return the outcomes scatter chart for a selected site\n",
    "        filtered_df = spacex_df[spacex_df['Launch Site'] == entered_site]\n",
    "        fig = px.scatter(filtered_df, \n",
    "                         x='Payload Mass (kg)', \n",
    "                         y='class', \n",
    "                         color=\"Booster Version Category\",\n",
    "                         title=f'Correlation between Payload and Success for site {entered_site}')\n",
    "        return fig"
   ]
  },
  {
   "cell_type": "markdown",
   "metadata": {},
   "source": [
    "## Finding Insights Visually\n",
    "Now with the dashboard completed, you should be able to use it to analyze SpaceX launch data, and answer the following questions:\n",
    "\n",
    "1. Which site has the largest successful launches?\n",
    "2. Which site has the highest launch success rate?\n",
    "3. Which payload range(s) has the highest launch success rate?\n",
    "4. Which payload range(s) has the lowest launch success rate?\n",
    "5. Which F9 Booster version (<font color='red'>v1.0</font>, <font color='red'>v1.1</font>, <font color='red'>FT</font>, <font color='red'>B4</font>, <font color='red'>B5</font>, etc.) has the highest launch success rate?"
   ]
  },
  {
   "cell_type": "markdown",
   "metadata": {},
   "source": [
    "## Plotly Dash Reference\n",
    "\n",
    "### Dropdown (input) component\n",
    "Refer [here](https://dash.plotly.com/dash-core-components/dropdown?utm_medium=Exinfluencer&utm_source=Exinfluencer&utm_content=000026UJ&utm_term=10006555&utm_id=NA-SkillsNetwork-Channel-SkillsNetworkCoursesIBMDS0321ENSkillsNetwork26802033-2021-01-01) for more details about <font color='red'>dcc.Dropdown()</font>\n",
    "\n",
    "\n",
    "### Range slider (input) component\n",
    "Refer [here](https://dash.plotly.com/dash-core-components/rangeslider?utm_medium=Exinfluencer&utm_source=Exinfluencer&utm_content=000026UJ&utm_term=10006555&utm_id=NA-SkillsNetwork-wwwcourseraorg-SkillsNetworkCoursesIBMDS0321ENSkillsNetwork26802033-2021-01-01) for more details about <font color='red'>dcc.RangeSlider()</font>\n",
    "\n",
    "### Pie chart (output) component\n",
    "Refer [here](https://plotly.com/python/pie-charts/?utm_medium=Exinfluencer&utm_source=Exinfluencer&utm_content=000026UJ&utm_term=10006555&utm_id=NA-SkillsNetwork-wwwcourseraorg-SkillsNetworkCoursesIBMDS0321ENSkillsNetwork26802033-2021-01-01) for more details about plotly pie charts\n",
    "\n",
    "### Scatter chart (output) component\n",
    "Refer [here](https://plotly.com/python/line-and-scatter/?utm_medium=Exinfluencer&utm_source=Exinfluencer&utm_content=000026UJ&utm_term=10006555&utm_id=NA-SkillsNetwork-wwwcourseraorg-SkillsNetworkCoursesIBMDS0321ENSkillsNetwork26802033-2021-01-01) for more details about plotly scatter charts\n",
    "\n",
    "### Author\n",
    "Yan Luo\n",
    "\n",
    "### Other contributor(s)\n",
    "Joseph Santarcangelo has a PhD in Electrical Engineering, his research focused on using machine learning, signal processing, and computer vision to determine how videos impact human cognition. Joseph has been working for IBM since he completed his PhD.\n",
    "\n",
    "### Changelog"
   ]
  },
  {
   "cell_type": "markdown",
   "metadata": {},
   "source": [
    "| Date              | Version | Changed By        | Change Description                  |\n",
    "| ----------------- | ------- | ----------------- | ----------------------------------- |\n",
    "| 03-09-2021        | 1.1     | Lakshmi Holla     | Added a note.                       |\n",
    "| 06-01-2021        | 1.0     | Yan               | Initial version created             |\n"
   ]
  },
  {
   "cell_type": "markdown",
   "metadata": {},
   "source": [
    "Copyright © 2021 IBM Corporation. All rights reserved."
   ]
  },
  {
   "cell_type": "code",
   "execution_count": null,
   "metadata": {},
   "outputs": [],
   "source": []
  },
  {
   "cell_type": "code",
   "execution_count": null,
   "metadata": {},
   "outputs": [
    {
     "name": "stdout",
     "output_type": "stream",
     "text": [
      "Dash is running on http://127.0.0.1:8050/\n",
      "\n",
      " * Serving Flask app \"__main__\" (lazy loading)\n",
      " * Environment: production\n",
      "   WARNING: This is a development server. Do not use it in a production deployment.\n",
      "   Use a production WSGI server instead.\n",
      " * Debug mode: off\n"
     ]
    },
    {
     "name": "stderr",
     "output_type": "stream",
     "text": [
      "<ipython-input-4-1566ff5b9428>:4: UserWarning: \n",
      "The dash_html_components package is deprecated. Please replace\n",
      "`import dash_html_components as html` with `from dash import html`\n",
      "  import dash_html_components as html\n",
      "<ipython-input-4-1566ff5b9428>:5: UserWarning: \n",
      "The dash_core_components package is deprecated. Please replace\n",
      "`import dash_core_components as dcc` with `from dash import dcc`\n",
      "  import dash_core_components as dcc\n",
      " * Running on http://127.0.0.1:8050/ (Press CTRL+C to quit)\n",
      "127.0.0.1 - - [21/Apr/2022 00:43:21] \"\u001b[37mGET / HTTP/1.1\u001b[0m\" 200 -\n",
      "127.0.0.1 - - [21/Apr/2022 00:43:22] \"\u001b[37mGET /_dash-layout HTTP/1.1\u001b[0m\" 200 -\n",
      "127.0.0.1 - - [21/Apr/2022 00:43:22] \"\u001b[37mGET /_dash-dependencies HTTP/1.1\u001b[0m\" 200 -\n",
      "127.0.0.1 - - [21/Apr/2022 00:43:22] \"\u001b[37mGET /_dash-component-suites/dash/dcc/async-dropdown.js HTTP/1.1\u001b[0m\" 200 -\n",
      "127.0.0.1 - - [21/Apr/2022 00:43:22] \"\u001b[37mGET /_dash-component-suites/dash/dcc/async-graph.js HTTP/1.1\u001b[0m\" 200 -\n",
      "127.0.0.1 - - [21/Apr/2022 00:43:22] \"\u001b[37mGET /_dash-component-suites/dash/dcc/async-slider.js HTTP/1.1\u001b[0m\" 200 -\n",
      "127.0.0.1 - - [21/Apr/2022 00:43:22] \"\u001b[37mGET /_dash-component-suites/dash/dcc/async-plotlyjs.js HTTP/1.1\u001b[0m\" 200 -\n",
      "127.0.0.1 - - [21/Apr/2022 00:43:23] \"\u001b[37mPOST /_dash-update-component HTTP/1.1\u001b[0m\" 200 -\n",
      "127.0.0.1 - - [21/Apr/2022 00:43:23] \"\u001b[37mPOST /_dash-update-component HTTP/1.1\u001b[0m\" 200 -\n"
     ]
    }
   ],
   "source": [
    "# Import required libraries\n",
    "import pandas as pd\n",
    "import dash\n",
    "import dash_html_components as html\n",
    "import dash_core_components as dcc\n",
    "from dash.dependencies import Input, Output\n",
    "import plotly.express as px\n",
    "\n",
    "# Read the airline data into pandas dataframe\n",
    "spacex_df = pd.read_csv(\"spacex_launch_dash.csv\")\n",
    "max_payload = spacex_df['Payload Mass (kg)'].max()\n",
    "min_payload = spacex_df['Payload Mass (kg)'].min()\n",
    "\n",
    "# Create a dash application\n",
    "app = dash.Dash(__name__)\n",
    "\n",
    "# Create an app layout\n",
    "app.layout = html.Div(children=[html.H1('SpaceX Launch Records Dashboard',\n",
    "                                        style={'textAlign': 'center', 'color': '#503D36',\n",
    "                                               'font-size': 40}),\n",
    "                                # TASK 1: Add a dropdown list to enable Launch Site selection\n",
    "                                # The default select value is for ALL sites\n",
    "                                # dcc.Dropdown(id='site-dropdown',...)\n",
    "                                dcc.Dropdown(id='site-dropdown',\n",
    "                                             options=[\n",
    "                                                 {'label': 'All Sites', 'value': 'ALL'},\n",
    "                                                 {'label': 'CCAFS LC-40', 'value': 'CCAFS LC-40'},\n",
    "                                                 {'label': 'VAFB SLC-4E', 'value': 'VAFB SLC-4E'},\n",
    "                                                 {'label': 'KSC LC-39A', 'value': 'KSC LC-39A'},\n",
    "                                                 {'label': 'CCAFS SLC-40', 'value': 'CCAFS SLC-40'},\n",
    "                                             ],\n",
    "                                             value='ALL',\n",
    "                                             placeholder=\"Select a Launch Site here\",\n",
    "                                             searchable=True\n",
    "                                            ),\n",
    "                                \n",
    "                                html.Br(),\n",
    "\n",
    "                                # TASK 2: Add a pie chart to show the total successful launches count for all sites\n",
    "                                # If a specific launch site was selected, show the Success vs. Failed counts for the site\n",
    "                                html.Div(dcc.Graph(id='success-pie-chart')),\n",
    "                                html.Br(),\n",
    "\n",
    "                                html.P(\"Payload range (Kg):\"),\n",
    "                                # TASK 3: Add a slider to select payload range\n",
    "                                #dcc.RangeSlider(id='payload-slider',...)\n",
    "                                dcc.RangeSlider(id='payload-slider',\n",
    "                                                min=0, max=10000, step=1000,\n",
    "                                                value=[min_payload, max_payload]),\n",
    "\n",
    "                                # TASK 4: Add a scatter chart to show the correlation between payload and launch success\n",
    "                                html.Div(dcc.Graph(id='success-payload-scatter-chart')),\n",
    "                                ])\n",
    "\n",
    "# TASK 2:\n",
    "# Add a callback function for `site-dropdown` as input, `success-pie-chart` as output\n",
    "@app.callback(Output(component_id='success-pie-chart', component_property='figure'),\n",
    "              Input(component_id='site-dropdown', component_property='value'))\n",
    "def get_pie_chart(entered_site):\n",
    "    filtered_df = spacex_df\n",
    "    if entered_site == 'ALL':\n",
    "        fig = px.pie(filtered_df, values='class', \n",
    "        names='Launch Site', \n",
    "        title='Total Success Launches for All Sites')\n",
    "        return fig\n",
    "    else:\n",
    "        # return the outcomes piechart for a selected site\n",
    "        filtered_df = spacex_df[spacex_df['Launch Site'] == entered_site]\n",
    "        filtered_df = filtered_df.groupby(['Launch Site','class']).size().reset_index(name='class count')\n",
    "        fig = px.pie(filtered_df, values='class count', \n",
    "        names='class', \n",
    "        title=f'Total Success Launches for site {entered_site}')\n",
    "        return fig\n",
    "    \n",
    "# TASK 4:\n",
    "# Add a callback function for `site-dropdown` and `payload-slider` as inputs, `success-payload-scatter-chart` as output\n",
    "@app.callback(Output(component_id='success-payload-scatter-chart', component_property='figure'),\n",
    "              Input(component_id='site-dropdown', component_property='value'), \n",
    "              Input(component_id=\"payload-slider\", component_property=\"value\"))\n",
    "def get_scatter_chart(entered_site, payload):\n",
    "    filtered_df = spacex_df[spacex_df['Payload Mass (kg)'].between(payload[0], payload[1])]\n",
    "    if entered_site == 'ALL':\n",
    "        fig = px.scatter(filtered_df, \n",
    "                         x='Payload Mass (kg)', \n",
    "                         y='class', \n",
    "                         color=\"Booster Version Category\",\n",
    "                         title='Correlation between Payload and Success for All Sites')\n",
    "        return fig\n",
    "    else:\n",
    "        # return the outcomes scatter chart for a selected site\n",
    "        filtered_df = spacex_df[spacex_df['Launch Site'] == entered_site]\n",
    "        fig = px.scatter(filtered_df, \n",
    "                         x='Payload Mass (kg)', \n",
    "                         y='class', \n",
    "                         color=\"Booster Version Category\",\n",
    "                         title=f'Correlation between Payload and Success for site {entered_site}')\n",
    "        return fig\n",
    "\n",
    "# Run the app\n",
    "if __name__ == '__main__':\n",
    "    app.run_server()"
   ]
  },
  {
   "cell_type": "code",
   "execution_count": null,
   "metadata": {},
   "outputs": [],
   "source": []
  }
 ],
 "metadata": {
  "kernelspec": {
   "display_name": "Python 3",
   "language": "python",
   "name": "python3"
  },
  "language_info": {
   "codemirror_mode": {
    "name": "ipython",
    "version": 3
   },
   "file_extension": ".py",
   "mimetype": "text/x-python",
   "name": "python",
   "nbconvert_exporter": "python",
   "pygments_lexer": "ipython3",
   "version": "3.8.8"
  }
 },
 "nbformat": 4,
 "nbformat_minor": 1
}
